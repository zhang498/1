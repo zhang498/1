{
 "cells": [
  {
   "cell_type": "code",
   "execution_count": 1,
   "id": "859cfc68",
   "metadata": {},
   "outputs": [
    {
     "data": {
      "text/plain": [
       "'<!DOCTYPE html>\\r\\n<!--STATUS OK--><html> <head><meta http-equiv=content-type content=text/html;charset=utf-8><meta http-equiv=X-UA-Compatible content=IE=Edge><meta content=always name=referrer><link rel=stylesheet type=text/css href=https://ss1.bdstatic.com/5eN1bjq8AAUYm2zgoY3K/r/www/cache/bdorz/baidu.min.css><title>ç\\x99¾åº¦ä¸\\x80ä¸\\x8bï¼\\x8cä½\\xa0å°±ç\\x9f¥é\\x81\\x93</title></head> <body link=#0000cc> <div id=wrapper> <div id=head> <div class=head_wrapper> <div class=s_form> <div class=s_form_wrapper> <div id=lg> <img hidefocus=true src=//www.baidu.com/img/bd_logo1.png width=270 height=129> </div> <form id=form name=f action=//www.baidu.com/s class=fm> <input type=hidden name=bdorz_come value=1> <input type=hidden name=ie value=utf-8> <input type=hidden name=f value=8> <input type=hidden name=rsv_bp value=1> <input type=hidden name=rsv_idx value=1> <input type=hidden name=tn value=baidu><span class=\"bg s_ipt_wr\"><input id=kw name=wd class=s_ipt value maxlength=255 autocomplete=off autofocus=autofocus></span><span class=\"bg s_btn_wr\"><input type=submit id=su value=ç\\x99¾åº¦ä¸\\x80ä¸\\x8b class=\"bg s_btn\" autofocus></span> </form> </div> </div> <div id=u1> <a href=http://news.baidu.com name=tj_trnews class=mnav>æ\\x96°é\\x97»</a> <a href=https://www.hao123.com name=tj_trhao123 class=mnav>hao123</a> <a href=http://map.baidu.com name=tj_trmap class=mnav>å\\x9c°å\\x9b¾</a> <a href=http://v.baidu.com name=tj_trvideo class=mnav>è§\\x86é¢\\x91</a> <a href=http://tieba.baidu.com name=tj_trtieba class=mnav>è´´å\\x90§</a> <noscript> <a href=http://www.baidu.com/bdorz/login.gif?login&amp;tpl=mn&amp;u=http%3A%2F%2Fwww.baidu.com%2f%3fbdorz_come%3d1 name=tj_login class=lb>ç\\x99»å½\\x95</a> </noscript> <script>document.write(\\'<a href=\"http://www.baidu.com/bdorz/login.gif?login&tpl=mn&u=\\'+ encodeURIComponent(window.location.href+ (window.location.search === \"\" ? \"?\" : \"&\")+ \"bdorz_come=1\")+ \\'\" name=\"tj_login\" class=\"lb\">ç\\x99»å½\\x95</a>\\');\\r\\n                </script> <a href=//www.baidu.com/more/ name=tj_briicon class=bri style=\"display: block;\">æ\\x9b´å¤\\x9aäº§å\\x93\\x81</a> </div> </div> </div> <div id=ftCon> <div id=ftConw> <p id=lh> <a href=http://home.baidu.com>å\\x85³äº\\x8eç\\x99¾åº¦</a> <a href=http://ir.baidu.com>About Baidu</a> </p> <p id=cp>&copy;2017&nbsp;Baidu&nbsp;<a href=http://www.baidu.com/duty/>ä½¿ç\\x94¨ç\\x99¾åº¦å\\x89\\x8då¿\\x85è¯»</a>&nbsp; <a href=http://jianyi.baidu.com/ class=cp-feedback>æ\\x84\\x8fè§\\x81å\\x8f\\x8dé¦\\x88</a>&nbsp;äº¬ICPè¯\\x81030173å\\x8f·&nbsp; <img src=//www.baidu.com/img/gs.gif> </p> </div> </div> </div> </body> </html>\\r\\n'"
      ]
     },
     "execution_count": 1,
     "metadata": {},
     "output_type": "execute_result"
    }
   ],
   "source": [
    "## 爬虫网站：http://data.10jqka.com.cn/financial/yjyg/\n",
    "import requests\n",
    "\n",
    "result=requests.get('https://www.baidu.com/')\n",
    "result.text"
   ]
  },
  {
   "cell_type": "markdown",
   "id": "fef9d605",
   "metadata": {},
   "source": [
    "## 状态码\n",
    "- 20*：证明请求成功\n",
    "- 30*：请求跳转\n",
    "- 40*：客户端错误\n",
    "- 50*：服务端错误"
   ]
  },
  {
   "cell_type": "code",
   "execution_count": 2,
   "id": "e0718d29",
   "metadata": {},
   "outputs": [
    {
     "data": {
      "text/plain": [
       "<Response [403]>"
      ]
     },
     "execution_count": 2,
     "metadata": {},
     "output_type": "execute_result"
    }
   ],
   "source": [
    "result=requests.get('http://data.10jqka.com.cn/financial/yjyg/')\n",
    "result"
   ]
  },
  {
   "cell_type": "code",
   "execution_count": 3,
   "id": "d0797c30",
   "metadata": {},
   "outputs": [
    {
     "data": {
      "text/plain": [
       "'<h1>Nginx forbidden.</h1> <br/>request info: 61.51.197.93\\n'"
      ]
     },
     "execution_count": 3,
     "metadata": {},
     "output_type": "execute_result"
    }
   ],
   "source": [
    "result.text"
   ]
  },
  {
   "cell_type": "code",
   "execution_count": 4,
   "id": "aa4bd4e8",
   "metadata": {},
   "outputs": [],
   "source": [
    "import re\n",
    "## 获取索引\n",
    "index=re.findall('<td>(.*)</td>',result.text)\n",
    "## 获取股票代码\n",
    "stock_code=re.findall('class=\"stockcode\">(.*)</a>',result.text)\n",
    "## 获取股票名称\n",
    "stock_name=re.findall('class=\"J_showCanvax\">(.*)</a>',result.text)\n",
    "## 获取业绩数据\n",
    "performance=re.findall('<span>业绩大幅上升</span>',result.text)\n",
    "## 获取摘要\n",
    "summary=re.findall('target=\"_blank\">(.*)</a>',result.text)"
   ]
  },
  {
   "cell_type": "markdown",
   "id": "276cd2bb",
   "metadata": {},
   "source": [
    "## 第二种数据抓取方式\n"
   ]
  },
  {
   "cell_type": "code",
   "execution_count": 5,
   "id": "301fd087",
   "metadata": {},
   "outputs": [],
   "source": [
    "## 为了获取多页数据，我们来观察翻页后url的变化\n",
    "# http://data.10jqka.com.cn/ajax/yjyg/date/2022-06-30/board/ALL/field/enddate/order/desc/ajax/1/free/1/\n",
    "# http://data.10jqka.com.cn/ajax/yjyg/date/2022-06-30/board/ALL/field/enddate/order/desc/page/1/ajax/1/free/1/\n",
    "# http://data.10jqka.com.cn/ajax/yjyg/date/2022-06-30/board/ALL/field/enddate/order/desc/page/2/ajax/1/free/1/"
   ]
  },
  {
   "cell_type": "code",
   "execution_count": 6,
   "id": "cdf07043",
   "metadata": {},
   "outputs": [
    {
     "data": {
      "text/plain": [
       "<Response [403]>"
      ]
     },
     "execution_count": 6,
     "metadata": {},
     "output_type": "execute_result"
    }
   ],
   "source": [
    "result=requests.get('http://data.10jqka.com.cn/ajax/yjyg/date/2022-06-30/board/ALL/field/enddate/order/desc/page/1/ajax/1/free/1/')\n",
    "result"
   ]
  },
  {
   "cell_type": "code",
   "execution_count": 7,
   "id": "fb0bb10d",
   "metadata": {},
   "outputs": [
    {
     "data": {
      "text/plain": [
       "'<h1>Nginx forbidden.</h1> <br/>request info: 61.51.197.93\\n'"
      ]
     },
     "execution_count": 7,
     "metadata": {},
     "output_type": "execute_result"
    }
   ],
   "source": [
    "result.text"
   ]
  },
  {
   "cell_type": "code",
   "execution_count": 18,
   "id": "6a7bca33",
   "metadata": {},
   "outputs": [
    {
     "data": {
      "text/plain": [
       "<Response [401]>"
      ]
     },
     "execution_count": 18,
     "metadata": {},
     "output_type": "execute_result"
    }
   ],
   "source": [
    "import requests\n",
    "# 获取一页的内容\n",
    "headers={\n",
    "    \"Accept\": \"text/html, */*; q=0.01\",\n",
    "    \"Accept-Encoding\": \"gzip, deflate\",\n",
    "    \"Accept-Language\": \"zh-CN,zh;q=0.9,en;q=0.8,en-GB;q=0.7,en-US;q=0.6\",\n",
    "    \"Connection\": \"keep-alive\",\n",
    "    \"Cookie\": \"Hm_lvt_78c58f01938e4d85eaf619eae71b4ed1=1655783830; __utma=156575163.1575246154.1655783923.1655783923.1655783923.1; __utmc=156575163; __utmz=156575163.1655783923.1.1.utmcsr=(direct)|utmccn=(direct)|utmcmd=(none); Hm_lvt_60bad21af9c824a4a0530d5dbf4357ca=1655783974; Hm_lvt_f79b64788a4e377c608617fba4c736e2=1655783974; Hm_lpvt_60bad21af9c824a4a0530d5dbf4357ca=1655803213; Hm_lpvt_78c58f01938e4d85eaf619eae71b4ed1=1655803213; Hm_lpvt_f79b64788a4e377c608617fba4c736e2=1655803213; v=A8QstxB3egbZ685KAxjBRZZQlUmz3ehHqgF8i95lUA9SCWp3Bu241_oRTBkt\",\n",
    "    \"hexin-v\": \"A8QstxB3egbZ685KAxjBRZZQlUmz3ehHqgF8i95lUA9SCWp3Bu241_oRTBkt\",\n",
    "    \"Host\": \"data.10jqka.com.cn\",\n",
    "    \"Referer\": \"http://data.10jqka.com.cn/financial/yjyg/\",\n",
    "    \"User-Agent\": \"Mozilla/5.0 (Windows NT 10.0; Win64; x64) AppleWebKit/537.36 (KHTML, like Gecko) Chrome/102.0.5005.124 Safari/537.36 Edg/102.0.1245.44\",\n",
    "    \"X-Requested-With\": \"XMLHttpRequest\",\n",
    "}\n",
    "\n",
    "url='http://data.10jqka.com.cn/ajax/yjyg/date/2022-06-30/board/ALL/field/enddate/order/desc/page/1/ajax/1/free/1/'\n",
    "\n",
    "result=requests.get(url,headers=headers)\n",
    "\n",
    "result"
   ]
  },
  {
   "cell_type": "code",
   "execution_count": 9,
   "id": "8e04da71",
   "metadata": {},
   "outputs": [
    {
     "data": {
      "text/plain": [
       "'<html><body>\\n    <script type=\"text/javascript\" src=\"//s.thsi.cn/js/chameleon/chameleon.min.1655955.js\"></script> <script src=\"//s.thsi.cn/js/chameleon/chameleon.min.1655955.js\" type=\"text/javascript\"></script>\\n    <script language=\"javascript\" type=\"text/javascript\">\\n    window.location.href=\"//data.10jqka.com.cn/ajax/yjyg/date/2022-06-30/board/ALL/field/enddate/order/desc/page/1/ajax/1/free/1/\";\\n    </script>\\n    </body></html>\\n'"
      ]
     },
     "execution_count": 9,
     "metadata": {},
     "output_type": "execute_result"
    }
   ],
   "source": [
    "result.text"
   ]
  },
  {
   "cell_type": "code",
   "execution_count": 10,
   "id": "47de9c00",
   "metadata": {},
   "outputs": [],
   "source": [
    "import re\n",
    "## 获取索引\n",
    "index=re.findall('<td>(.*)</td>',result.text)\n",
    "## 获取股票代码\n",
    "stock_code=re.findall('class=\"stockCode\">(.*)</a>',result.text)\n",
    "## 获取股票名称\n",
    "stock_name=re.findall('class=\"J_showCanvax\">(.*)</a>',result.text)\n",
    "## 获取业绩数据\n",
    "performance=re.findall('<span>业绩大幅上升</span>',result.text)\n",
    "## 获取摘要\n",
    "summary=re.findall('target=\"_blank\">(.*)</a>',result.text)"
   ]
  },
  {
   "cell_type": "code",
   "execution_count": 11,
   "id": "86a2dc8d",
   "metadata": {},
   "outputs": [
    {
     "data": {
      "text/plain": [
       "[]"
      ]
     },
     "execution_count": 11,
     "metadata": {},
     "output_type": "execute_result"
    }
   ],
   "source": [
    "stock_name"
   ]
  },
  {
   "cell_type": "code",
   "execution_count": 12,
   "id": "805a183b",
   "metadata": {},
   "outputs": [
    {
     "data": {
      "text/plain": [
       "'<html><body>\\n    <script type=\"text/javascript\" src=\"//s.thsi.cn/js/chameleon/chameleon.min.1655955.js\"></script> <script src=\"//s.thsi.cn/js/chameleon/chameleon.min.1655955.js\" type=\"text/javascript\"></script>\\n    <script language=\"javascript\" type=\"text/javascript\">\\n    window.location.href=\"//data.10jqka.com.cn/ajax/yjyg/date/2022-06-30/board/ALL/field/enddate/order/desc/page/1/ajax/1/free/1/\";\\n    </script>\\n    </body></html>\\n<html><body>\\n    <script type=\"text/javascript\" src=\"//s.thsi.cn/js/chameleon/chameleon.min.1655955.js\"></script> <script src=\"//s.thsi.cn/js/chameleon/chameleon.min.1655955.js\" type=\"text/javascript\"></script>\\n    <script language=\"javascript\" type=\"text/javascript\">\\n    window.location.href=\"//data.10jqka.com.cn/ajax/yjyg/date/2022-06-30/board/ALL/field/enddate/order/desc/page/2/ajax/1/free/1/\";\\n    </script>\\n    </body></html>\\n<html><body>\\n    <script type=\"text/javascript\" src=\"//s.thsi.cn/js/chameleon/chameleon.min.1655955.js\"></script> <script src=\"//s.thsi.cn/js/chameleon/chameleon.min.1655955.js\" type=\"text/javascript\"></script>\\n    <script language=\"javascript\" type=\"text/javascript\">\\n    window.location.href=\"//data.10jqka.com.cn/ajax/yjyg/date/2022-06-30/board/ALL/field/enddate/order/desc/page/3/ajax/1/free/1/\";\\n    </script>\\n    </body></html>\\n<html><body>\\n    <script type=\"text/javascript\" src=\"//s.thsi.cn/js/chameleon/chameleon.min.1655955.js\"></script> <script src=\"//s.thsi.cn/js/chameleon/chameleon.min.1655955.js\" type=\"text/javascript\"></script>\\n    <script language=\"javascript\" type=\"text/javascript\">\\n    window.location.href=\"//data.10jqka.com.cn/ajax/yjyg/date/2022-06-30/board/ALL/field/enddate/order/desc/page/4/ajax/1/free/1/\";\\n    </script>\\n    </body></html>\\n<html><body>\\n    <script type=\"text/javascript\" src=\"//s.thsi.cn/js/chameleon/chameleon.min.1655955.js\"></script> <script src=\"//s.thsi.cn/js/chameleon/chameleon.min.1655955.js\" type=\"text/javascript\"></script>\\n    <script language=\"javascript\" type=\"text/javascript\">\\n    window.location.href=\"//data.10jqka.com.cn/ajax/yjyg/date/2022-06-30/board/ALL/field/enddate/order/desc/page/5/ajax/1/free/1/\";\\n    </script>\\n    </body></html>\\n'"
      ]
     },
     "execution_count": 12,
     "metadata": {},
     "output_type": "execute_result"
    }
   ],
   "source": [
    "## 获取多页的内容\n",
    "headers={\n",
    "    \"Accept\": \"text/html, */*; q=0.01\",\n",
    "    \"Accept-Encoding\": \"gzip, deflate\",\n",
    "    \"Accept-Language\": \"zh-CN,zh;q=0.9,en;q=0.8,en-GB;q=0.7,en-US;q=0.6\",\n",
    "    \"Connection\": \"keep-alive\",\n",
    "    \"Cookie\": \"Hm_lvt_78c58f01938e4d85eaf619eae71b4ed1=1655783830; __utma=156575163.1575246154.1655783923.1655783923.1655783923.1; __utmc=156575163; __utmz=156575163.1655783923.1.1.utmcsr=(direct)|utmccn=(direct)|utmcmd=(none); Hm_lvt_60bad21af9c824a4a0530d5dbf4357ca=1655783974; Hm_lvt_f79b64788a4e377c608617fba4c736e2=1655783974; Hm_lpvt_60bad21af9c824a4a0530d5dbf4357ca=1655803213; Hm_lpvt_78c58f01938e4d85eaf619eae71b4ed1=1655803213; Hm_lpvt_f79b64788a4e377c608617fba4c736e2=1655803213; v=A8QstxB3egbZ685KAxjBRZZQlUmz3ehHqgF8i95lUA9SCWp3Bu241_oRTBkt\",\n",
    "    \"hexin-v\": \"A8QstxB3egbZ685KAxjBRZZQlUmz3ehHqgF8i95lUA9SCWp3Bu241_oRTBkt\",\n",
    "    \"Host\": \"data.10jqka.com.cn\",\n",
    "    \"Referer\": \"http://data.10jqka.com.cn/financial/yjyg/\",\n",
    "    \"User-Agent\": \"Mozilla/5.0 (Windows NT 10.0; Win64; x64) AppleWebKit/537.36 (KHTML, like Gecko) Chrome/102.0.5005.124 Safari/537.36 Edg/102.0.1245.44\",\n",
    "    \"X-Requested-With\": \"XMLHttpRequest\",\n",
    "}\n",
    "url='http://data.10jqka.com.cn/ajax/yjyg/date/2022-06-30/board/ALL/field/enddate/order/desc/page/{}/ajax/1/free/1/'\n",
    "result=\"\"\n",
    "for i in range(1,6):\n",
    "    result += requests.get(url.format(i),headers=headers).text\n",
    "result"
   ]
  },
  {
   "cell_type": "code",
   "execution_count": 13,
   "id": "03eb3c2b",
   "metadata": {},
   "outputs": [],
   "source": [
    "import re\n",
    "## 获取索引\n",
    "index=re.findall('<td>(.*)</td>',result)\n",
    "## 获取股票代码\n",
    "stock_code=re.findall('class=\"stockcode\">(.*)</a>',result)\n",
    "## 获取股票名称\n",
    "stock_name=re.findall('class=\"J_showCanvax\">(.*)</a>',result)\n",
    "## 获取业绩数据\n",
    "performance=re.findall('<span>业绩大幅上升</span>',result)\n",
    "## 获取摘要\n",
    "summary=re.findall('target=\"_blank\">(.*)</a>',result)"
   ]
  },
  {
   "cell_type": "code",
   "execution_count": 14,
   "id": "e0369e1c",
   "metadata": {},
   "outputs": [
    {
     "data": {
      "text/plain": [
       "[]"
      ]
     },
     "execution_count": 14,
     "metadata": {},
     "output_type": "execute_result"
    }
   ],
   "source": [
    "summary"
   ]
  },
  {
   "cell_type": "code",
   "execution_count": 15,
   "id": "4cfa22d7",
   "metadata": {},
   "outputs": [],
   "source": [
    "# 把以上获取到的数据变成dataframe数据类型\n",
    "import pandas as pd\n",
    "import matplotlib.pyplot as plt"
   ]
  },
  {
   "cell_type": "code",
   "execution_count": 16,
   "id": "cb0f7003",
   "metadata": {},
   "outputs": [
    {
     "data": {
      "text/html": [
       "<div>\n",
       "<style scoped>\n",
       "    .dataframe tbody tr th:only-of-type {\n",
       "        vertical-align: middle;\n",
       "    }\n",
       "\n",
       "    .dataframe tbody tr th {\n",
       "        vertical-align: top;\n",
       "    }\n",
       "\n",
       "    .dataframe thead th {\n",
       "        text-align: right;\n",
       "    }\n",
       "</style>\n",
       "<table border=\"1\" class=\"dataframe\">\n",
       "  <thead>\n",
       "    <tr style=\"text-align: right;\">\n",
       "      <th></th>\n",
       "      <th>stock_code</th>\n",
       "      <th>stock_name</th>\n",
       "      <th>performance</th>\n",
       "      <th>summary</th>\n",
       "    </tr>\n",
       "  </thead>\n",
       "  <tbody>\n",
       "  </tbody>\n",
       "</table>\n",
       "</div>"
      ],
      "text/plain": [
       "Empty DataFrame\n",
       "Columns: [stock_code, stock_name, performance, summary]\n",
       "Index: []"
      ]
     },
     "execution_count": 16,
     "metadata": {},
     "output_type": "execute_result"
    }
   ],
   "source": [
    "data=pd.DataFrame({\n",
    "   \"stock_code\":stock_code,\n",
    "   \"stock_name\":stock_name,\n",
    "    \"performance\":performance,\n",
    "    \"summary\":summary\n",
    "},index=index)\n",
    "data"
   ]
  },
  {
   "cell_type": "code",
   "execution_count": 17,
   "id": "a7144890",
   "metadata": {},
   "outputs": [
    {
     "ename": "AttributeError",
     "evalue": "Can only use .str accessor with string values!",
     "output_type": "error",
     "traceback": [
      "\u001b[1;31m---------------------------------------------------------------------------\u001b[0m",
      "\u001b[1;31mAttributeError\u001b[0m                            Traceback (most recent call last)",
      "\u001b[1;32m~\\AppData\\Local\\Temp/ipykernel_22076/1843766580.py\u001b[0m in \u001b[0;36m<module>\u001b[1;34m\u001b[0m\n\u001b[1;32m----> 1\u001b[1;33m \u001b[0mdata\u001b[0m\u001b[1;33m[\u001b[0m\u001b[1;34m'start_profit'\u001b[0m\u001b[1;33m]\u001b[0m\u001b[1;33m=\u001b[0m\u001b[0mdata\u001b[0m\u001b[1;33m[\u001b[0m\u001b[1;34m'summary'\u001b[0m\u001b[1;33m]\u001b[0m\u001b[1;33m.\u001b[0m\u001b[0mstr\u001b[0m\u001b[1;33m.\u001b[0m\u001b[0mextract\u001b[0m\u001b[1;33m(\u001b[0m\u001b[1;34m'(-{0,1}\\d{0,10}\\.{0,1}\\d{0,10})万元'\u001b[0m\u001b[1;33m)\u001b[0m\u001b[1;33m\u001b[0m\u001b[1;33m\u001b[0m\u001b[0m\n\u001b[0m\u001b[0;32m      2\u001b[0m \u001b[0mdata\u001b[0m\u001b[1;33m[\u001b[0m\u001b[1;34m'start_profit'\u001b[0m\u001b[1;33m]\u001b[0m\u001b[1;33m=\u001b[0m\u001b[0mdata\u001b[0m\u001b[1;33m[\u001b[0m\u001b[1;34m'summary'\u001b[0m\u001b[1;33m]\u001b[0m\u001b[1;33m.\u001b[0m\u001b[0mstr\u001b[0m\u001b[1;33m.\u001b[0m\u001b[0mextract\u001b[0m\u001b[1;33m(\u001b[0m\u001b[1;34m'至(-{0,1}\\d{0,10}\\.{0,1}\\d{0,10})万元'\u001b[0m\u001b[1;33m)\u001b[0m\u001b[1;33m\u001b[0m\u001b[1;33m\u001b[0m\u001b[0m\n\u001b[0;32m      3\u001b[0m \u001b[0mdata\u001b[0m\u001b[1;33m.\u001b[0m\u001b[0mhead\u001b[0m\u001b[1;33m(\u001b[0m\u001b[1;33m)\u001b[0m\u001b[1;33m\u001b[0m\u001b[1;33m\u001b[0m\u001b[0m\n",
      "\u001b[1;32mZ:\\Anaconda\\lib\\site-packages\\pandas\\core\\generic.py\u001b[0m in \u001b[0;36m__getattr__\u001b[1;34m(self, name)\u001b[0m\n\u001b[0;32m   5485\u001b[0m         ):\n\u001b[0;32m   5486\u001b[0m             \u001b[1;32mreturn\u001b[0m \u001b[0mself\u001b[0m\u001b[1;33m[\u001b[0m\u001b[0mname\u001b[0m\u001b[1;33m]\u001b[0m\u001b[1;33m\u001b[0m\u001b[1;33m\u001b[0m\u001b[0m\n\u001b[1;32m-> 5487\u001b[1;33m         \u001b[1;32mreturn\u001b[0m \u001b[0mobject\u001b[0m\u001b[1;33m.\u001b[0m\u001b[0m__getattribute__\u001b[0m\u001b[1;33m(\u001b[0m\u001b[0mself\u001b[0m\u001b[1;33m,\u001b[0m \u001b[0mname\u001b[0m\u001b[1;33m)\u001b[0m\u001b[1;33m\u001b[0m\u001b[1;33m\u001b[0m\u001b[0m\n\u001b[0m\u001b[0;32m   5488\u001b[0m \u001b[1;33m\u001b[0m\u001b[0m\n\u001b[0;32m   5489\u001b[0m     \u001b[1;32mdef\u001b[0m \u001b[0m__setattr__\u001b[0m\u001b[1;33m(\u001b[0m\u001b[0mself\u001b[0m\u001b[1;33m,\u001b[0m \u001b[0mname\u001b[0m\u001b[1;33m:\u001b[0m \u001b[0mstr\u001b[0m\u001b[1;33m,\u001b[0m \u001b[0mvalue\u001b[0m\u001b[1;33m)\u001b[0m \u001b[1;33m->\u001b[0m \u001b[1;32mNone\u001b[0m\u001b[1;33m:\u001b[0m\u001b[1;33m\u001b[0m\u001b[1;33m\u001b[0m\u001b[0m\n",
      "\u001b[1;32mZ:\\Anaconda\\lib\\site-packages\\pandas\\core\\accessor.py\u001b[0m in \u001b[0;36m__get__\u001b[1;34m(self, obj, cls)\u001b[0m\n\u001b[0;32m    179\u001b[0m             \u001b[1;31m# we're accessing the attribute of the class, i.e., Dataset.geo\u001b[0m\u001b[1;33m\u001b[0m\u001b[1;33m\u001b[0m\u001b[0m\n\u001b[0;32m    180\u001b[0m             \u001b[1;32mreturn\u001b[0m \u001b[0mself\u001b[0m\u001b[1;33m.\u001b[0m\u001b[0m_accessor\u001b[0m\u001b[1;33m\u001b[0m\u001b[1;33m\u001b[0m\u001b[0m\n\u001b[1;32m--> 181\u001b[1;33m         \u001b[0maccessor_obj\u001b[0m \u001b[1;33m=\u001b[0m \u001b[0mself\u001b[0m\u001b[1;33m.\u001b[0m\u001b[0m_accessor\u001b[0m\u001b[1;33m(\u001b[0m\u001b[0mobj\u001b[0m\u001b[1;33m)\u001b[0m\u001b[1;33m\u001b[0m\u001b[1;33m\u001b[0m\u001b[0m\n\u001b[0m\u001b[0;32m    182\u001b[0m         \u001b[1;31m# Replace the property with the accessor object. Inspired by:\u001b[0m\u001b[1;33m\u001b[0m\u001b[1;33m\u001b[0m\u001b[0m\n\u001b[0;32m    183\u001b[0m         \u001b[1;31m# https://www.pydanny.com/cached-property.html\u001b[0m\u001b[1;33m\u001b[0m\u001b[1;33m\u001b[0m\u001b[0m\n",
      "\u001b[1;32mZ:\\Anaconda\\lib\\site-packages\\pandas\\core\\strings\\accessor.py\u001b[0m in \u001b[0;36m__init__\u001b[1;34m(self, data)\u001b[0m\n\u001b[0;32m    166\u001b[0m         \u001b[1;32mfrom\u001b[0m \u001b[0mpandas\u001b[0m\u001b[1;33m.\u001b[0m\u001b[0mcore\u001b[0m\u001b[1;33m.\u001b[0m\u001b[0marrays\u001b[0m\u001b[1;33m.\u001b[0m\u001b[0mstring_\u001b[0m \u001b[1;32mimport\u001b[0m \u001b[0mStringDtype\u001b[0m\u001b[1;33m\u001b[0m\u001b[1;33m\u001b[0m\u001b[0m\n\u001b[0;32m    167\u001b[0m \u001b[1;33m\u001b[0m\u001b[0m\n\u001b[1;32m--> 168\u001b[1;33m         \u001b[0mself\u001b[0m\u001b[1;33m.\u001b[0m\u001b[0m_inferred_dtype\u001b[0m \u001b[1;33m=\u001b[0m \u001b[0mself\u001b[0m\u001b[1;33m.\u001b[0m\u001b[0m_validate\u001b[0m\u001b[1;33m(\u001b[0m\u001b[0mdata\u001b[0m\u001b[1;33m)\u001b[0m\u001b[1;33m\u001b[0m\u001b[1;33m\u001b[0m\u001b[0m\n\u001b[0m\u001b[0;32m    169\u001b[0m         \u001b[0mself\u001b[0m\u001b[1;33m.\u001b[0m\u001b[0m_is_categorical\u001b[0m \u001b[1;33m=\u001b[0m \u001b[0mis_categorical_dtype\u001b[0m\u001b[1;33m(\u001b[0m\u001b[0mdata\u001b[0m\u001b[1;33m.\u001b[0m\u001b[0mdtype\u001b[0m\u001b[1;33m)\u001b[0m\u001b[1;33m\u001b[0m\u001b[1;33m\u001b[0m\u001b[0m\n\u001b[0;32m    170\u001b[0m         \u001b[0mself\u001b[0m\u001b[1;33m.\u001b[0m\u001b[0m_is_string\u001b[0m \u001b[1;33m=\u001b[0m \u001b[0misinstance\u001b[0m\u001b[1;33m(\u001b[0m\u001b[0mdata\u001b[0m\u001b[1;33m.\u001b[0m\u001b[0mdtype\u001b[0m\u001b[1;33m,\u001b[0m \u001b[0mStringDtype\u001b[0m\u001b[1;33m)\u001b[0m\u001b[1;33m\u001b[0m\u001b[1;33m\u001b[0m\u001b[0m\n",
      "\u001b[1;32mZ:\\Anaconda\\lib\\site-packages\\pandas\\core\\strings\\accessor.py\u001b[0m in \u001b[0;36m_validate\u001b[1;34m(data)\u001b[0m\n\u001b[0;32m    223\u001b[0m \u001b[1;33m\u001b[0m\u001b[0m\n\u001b[0;32m    224\u001b[0m         \u001b[1;32mif\u001b[0m \u001b[0minferred_dtype\u001b[0m \u001b[1;32mnot\u001b[0m \u001b[1;32min\u001b[0m \u001b[0mallowed_types\u001b[0m\u001b[1;33m:\u001b[0m\u001b[1;33m\u001b[0m\u001b[1;33m\u001b[0m\u001b[0m\n\u001b[1;32m--> 225\u001b[1;33m             \u001b[1;32mraise\u001b[0m \u001b[0mAttributeError\u001b[0m\u001b[1;33m(\u001b[0m\u001b[1;34m\"Can only use .str accessor with string values!\"\u001b[0m\u001b[1;33m)\u001b[0m\u001b[1;33m\u001b[0m\u001b[1;33m\u001b[0m\u001b[0m\n\u001b[0m\u001b[0;32m    226\u001b[0m         \u001b[1;32mreturn\u001b[0m \u001b[0minferred_dtype\u001b[0m\u001b[1;33m\u001b[0m\u001b[1;33m\u001b[0m\u001b[0m\n\u001b[0;32m    227\u001b[0m \u001b[1;33m\u001b[0m\u001b[0m\n",
      "\u001b[1;31mAttributeError\u001b[0m: Can only use .str accessor with string values!"
     ]
    }
   ],
   "source": [
    "data['start_profit']=data['summary'].str.extract('(-{0,1}\\d{0,10}\\.{0,1}\\d{0,10})万元')\n",
    "data['start_profit']=data['summary'].str.extract('至(-{0,1}\\d{0,10}\\.{0,1}\\d{0,10})万元')\n",
    "data.head()"
   ]
  },
  {
   "cell_type": "code",
   "execution_count": null,
   "id": "fc78a680",
   "metadata": {},
   "outputs": [],
   "source": [
    "data['performace'].unique()"
   ]
  },
  {
   "cell_type": "code",
   "execution_count": null,
   "id": "4fcc74c9",
   "metadata": {},
   "outputs": [],
   "source": [
    "# 设置一个苦笋的字段，亏损的字段值为-1，盈利的字段值为1\n",
    "# 盈利：'业绩预增','业绩大幅上升','预计扭亏'\n",
    "# 亏损：'预计减亏','业绩大幅下降','业绩预亏','预计增亏','业绩预降','预计续亏'\n",
    "def if_profit(x):\n",
    "    if x in [业绩预增','业绩大幅上升','预计扭亏']:\n",
    "        return 1\n",
    "    if x in ['预计减亏','业绩大幅下降','业绩预亏','预计增亏','业绩预降','预计续亏']:\n",
    "        return -1\n",
    "    return 0"
   ]
  },
  {
   "cell_type": "code",
   "execution_count": null,
   "id": "ce7c4d61",
   "metadata": {},
   "outputs": [],
   "source": [
    "data['is_profit']=data.apply(lambda x: if_profit(x['performance']),axis=1)"
   ]
  },
  {
   "cell_type": "code",
   "execution_count": null,
   "id": "1d471ae8",
   "metadata": {},
   "outputs": [],
   "source": [
    "import numpy as np\n",
    "yingli=np.sum(data['is_profit']==1)\n",
    "yinglil"
   ]
  },
  {
   "cell_type": "code",
   "execution_count": null,
   "id": "0ec1be7a",
   "metadata": {},
   "outputs": [],
   "source": [
    "kuisun=np.sum(data['is_profit']==-1)\n",
    "kuisun"
   ]
  },
  {
   "cell_type": "code",
   "execution_count": null,
   "id": "b8b373e7",
   "metadata": {},
   "outputs": [],
   "source": [
    "font={'family':'SimHei','size':15}\n",
    "plt.rc('font',**font)\n",
    "ply.pie([yingli,kuisun],labels=['盈利','亏损'],autopct=\"%.2f%%\")\n",
    "plt.title('上市公司盈利和亏损的占比')\n",
    "plt.show()"
   ]
  },
  {
   "cell_type": "code",
   "execution_count": null,
   "id": "92505d30",
   "metadata": {},
   "outputs": [],
   "source": []
  }
 ],
 "metadata": {
  "kernelspec": {
   "display_name": "Python 3 (ipykernel)",
   "language": "python",
   "name": "python3"
  },
  "language_info": {
   "codemirror_mode": {
    "name": "ipython",
    "version": 3
   },
   "file_extension": ".py",
   "mimetype": "text/x-python",
   "name": "python",
   "nbconvert_exporter": "python",
   "pygments_lexer": "ipython3",
   "version": "3.9.7"
  }
 },
 "nbformat": 4,
 "nbformat_minor": 5
}
