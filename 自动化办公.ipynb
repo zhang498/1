{
 "cells": [
  {
   "cell_type": "code",
   "execution_count": 1,
   "id": "4b1019ef",
   "metadata": {},
   "outputs": [],
   "source": [
    "# \"dkbklkrplukqdjgf\""
   ]
  },
  {
   "cell_type": "markdown",
   "id": "83e6ec2e",
   "metadata": {},
   "source": [
    "## 场景描述\n",
    "- 当我们到一家公司入职数据分析师，现在有一个同事把数据分析的工作交给我们，但是这份数据是刚刚到处excel的，同时直接扔给我们一个压缩包或者一个文件夹，所有的数据文件都在这个文件夹当中，该如何快速的做数据整合和分析呢？"
   ]
  },
  {
   "cell_type": "markdown",
   "id": "901dee3c",
   "metadata": {},
   "source": [
    "## 主要知识点\n",
    "- 递归：主要的目的是遍历文件夹和文件\n",
    "- 文件夹和文件的属性判断"
   ]
  },
  {
   "cell_type": "code",
   "execution_count": 2,
   "id": "4752c34f",
   "metadata": {},
   "outputs": [
    {
     "name": "stdout",
     "output_type": "stream",
     "text": [
      "1\n",
      "2\n"
     ]
    }
   ],
   "source": [
    "## 函数的调用，一个函数调用另外一个函数\n",
    "def f1():\n",
    "    print(1)\n",
    "def f2():\n",
    "    f1()\n",
    "    print(2)\n",
    "f2()"
   ]
  },
  {
   "cell_type": "code",
   "execution_count": null,
   "id": "01f74278",
   "metadata": {},
   "outputs": [],
   "source": [
    "## 递归的意思是，函数自己调用自己\n",
    "def f3(n):\n",
    "    print(n)\n",
    "    n+=1\n",
    "    f3(n)\n",
    "f3(1)\n",
    "# 这个代码会抛出一个错误：RecursionError:maxium recursion depth exceeded incomparison\n",
    "# 超出最大递归深度异常"
   ]
  },
  {
   "cell_type": "code",
   "execution_count": null,
   "id": "d41cf5bb",
   "metadata": {},
   "outputs": [],
   "source": [
    "import sys\n",
    "sys.setrecursionlimit(1000)\n",
    "def f3(n):\n",
    "    print(n)\n",
    "    n+=1\n",
    "    f3(n)\n",
    "f3(1)"
   ]
  },
  {
   "cell_type": "code",
   "execution_count": null,
   "id": "0a3e0450",
   "metadata": {},
   "outputs": [],
   "source": [
    "## 让递归停下\n",
    "def f(n):\n",
    "    print(n)\n",
    "    n+=1    \n",
    "    if n==10:\n",
    "        return \n",
    "    else:\n",
    "        f(n)\n",
    "f(1)"
   ]
  },
  {
   "cell_type": "code",
   "execution_count": null,
   "id": "4f548c3c",
   "metadata": {},
   "outputs": [],
   "source": [
    "## 求和\n",
    "def f(n):\n",
    "    if n==0:\n",
    "        return 0\n",
    "    return n+f(n-1)\n",
    "f(5)"
   ]
  },
  {
   "cell_type": "code",
   "execution_count": null,
   "id": "a018cc85",
   "metadata": {},
   "outputs": [],
   "source": [
    "## 使用python来进行文件和文件夹的判断"
   ]
  },
  {
   "cell_type": "code",
   "execution_count": 38,
   "id": "ddb7d9d2",
   "metadata": {},
   "outputs": [
    {
     "name": "stdout",
     "output_type": "stream",
     "text": [
      ".DS_Store是一个文件\n",
      "study是一个文件夹\n",
      "公司资料是一个文件夹\n",
      "学习目标.txt是一个文件\n",
      "学习目标是一个文本文件\n"
     ]
    }
   ],
   "source": [
    "## 列出目标文件夹下的所有文件（文件即包含我们平时理解的文本文件和文件夹）\n",
    "import os\n",
    "# 声明根目录（这个目录是同事给到我们的那个包含所有文件的目录）\n",
    "path='./data'\n",
    "# 拿到这个文件下的所有文件\n",
    "files=os.listdir(path)\n",
    "files\n",
    "# 处理这些文件\n",
    "for file in files:\n",
    "    # 判断这些文件是文件夹还是文件\n",
    "    # 路径拼接\n",
    "    if os.path.isfile(path+\"/\"+file):\n",
    "        print(file+\"是一个文件\")\n",
    "        # 当我们知道这是一个文件的时候，我们就要判断到底是个什么类型的文件\n",
    "        filename,extension=os.path.splitext(file)\n",
    "        if extension == '.txt':\n",
    "            print(filename+\"是一个文本文件\")\n",
    "        elif extension == '.xlsx':\n",
    "            print(filename+'是一个EXCEL文件')\n",
    "        elif extension == '.csv':\n",
    "            print(filename+\"是一个csv文件\")\n",
    "    if os.path.isdir(path+\"/\"+file):\n",
    "        print(file +\"是一个文件夹\")   "
   ]
  },
  {
   "cell_type": "code",
   "execution_count": 11,
   "id": "41cc9775",
   "metadata": {},
   "outputs": [
    {
     "name": "stdout",
     "output_type": "stream",
     "text": [
      ">>>>>>>这是递归新的开始<<<<<<<<<\n",
      ".DS_Store是一个文件\n",
      "::::::::::::study是一个文件夹:::::::\n",
      ">>>>>>>这是递归新的开始<<<<<<<<<\n",
      ".DS_Store是一个文件\n",
      "::::::::::::学习激励是一个文件夹:::::::\n",
      ">>>>>>>这是递归新的开始<<<<<<<<<\n",
      "激励1.txt是一个文件\n",
      "激励1是一个文本文件\n",
      "Empty DataFrame\n",
      "Columns: [3个月后我要把数据分析技术应用在工作中，奖励自己一次旅行]\n",
      "Index: []\n",
      "激励2.txt是一个文件\n",
      "激励2是一个文本文件\n",
      "Empty DataFrame\n",
      "Columns: [如果6个月后我把数据分析技术应用在工作中，只能奖励自己一顿大餐了]\n",
      "Index: []\n",
      "学习进度.txt是一个文件\n",
      "学习进度是一个文本文件\n",
      "Empty DataFrame\n",
      "Columns: [我现在学习到了函数的递归调用]\n",
      "Index: []\n",
      "::::::::::::公司资料是一个文件夹:::::::\n",
      ">>>>>>>这是递归新的开始<<<<<<<<<\n",
      "公司花名册.xlsx是一个文件\n",
      "公司花名册是一个EXCEL文件\n",
      "     姓名 性别  年龄\n",
      "0   潘书翠  女  17\n",
      "1   弓念波  男  18\n",
      "2  东方慕儿  女  19\n",
      "3  上官婉儿  女  23\n",
      "学习目标.txt是一个文件\n",
      "学习目标是一个文本文件\n",
      "Empty DataFrame\n",
      "Columns: [来到贪心学院学习数据分析技术，我一定要掌握它，尽快应用到工作中]\n",
      "Index: []\n"
     ]
    }
   ],
   "source": [
    "import pandas as pd\n",
    "## 列出目标文件夹下的所有文件（文件即包含我们平时理解的文本文件和文件夹）\n",
    "import os\n",
    "# 声明根目录（这个目录是同事给到我们的那个包含所有文件的目录）\n",
    "path='./data'\n",
    "\n",
    "def get_all_files(path):\n",
    "    print(\">>>>>>>这是递归新的开始<<<<<<<<<\")\n",
    "    # 拿到这个文件下的所有文件\n",
    "    files=os.listdir(path)\n",
    "    #files\n",
    "    # 处理这些文件\n",
    "    for file in files:\n",
    "        # 判断这些文件是文件夹还是文件\n",
    "        # 路径拼接\n",
    "        if os.path.isfile(path+\"/\"+file):\n",
    "            print(file+\"是一个文件\")\n",
    "            # 当我们知道这是一个文件的时候，我们就要判断到底是个什么类型的文件\n",
    "            filename,extension=os.path.splitext(file)\n",
    "            if extension == '.txt':\n",
    "                print(filename+\"是一个文本文件\")\n",
    "                data=pd.read_table(path+\"/\"+file)\n",
    "                print(data)\n",
    "            elif extension == '.xlsx':\n",
    "                print(filename+'是一个EXCEL文件')\n",
    "                data=pd.read_excel(path+\"/\"+file)\n",
    "                print(data)\n",
    "            elif extension == '.csv':\n",
    "                print(filename+\"是一个csv文件\")\n",
    "                data=pd.read_csv(path+\"/\"+file)\n",
    "                print(data)\n",
    "        if os.path.isdir(path+\"/\"+file):\n",
    "            print(\"::::::::::::\"+file +\"是一个文件夹\"+\":::::::\")   \n",
    "            # 递归调用，把文件夹传入到get_all_files这个函数中，继续判断是文件还是文件夹，获取到这个文件夹下的所有内容\n",
    "            get_all_files( path+\"/\"+file)\n",
    "get_all_files(path)            "
   ]
  },
  {
   "cell_type": "markdown",
   "id": "f1649ed1",
   "metadata": {},
   "source": [
    "## 合并文件"
   ]
  },
  {
   "cell_type": "code",
   "execution_count": 39,
   "id": "647c1611",
   "metadata": {},
   "outputs": [
    {
     "name": "stdout",
     "output_type": "stream",
     "text": [
      ">>>>>>>这是递归新的开始<<<<<<<<<\n",
      ".DS_Store是一个文件\n",
      "data11.csv是一个文件\n",
      "************data11是一个csv文件,是我们的目标文件****************\n",
      "data11.csv...........合并中\n",
      "data12.csv是一个文件\n",
      "************data12是一个csv文件,是我们的目标文件****************\n",
      "data12.csv...........合并中\n",
      "data13.csv是一个文件\n",
      "************data13是一个csv文件,是我们的目标文件****************\n",
      "data13.csv...........合并中\n",
      "::::::::::::part1_data是一个文件夹:::::::\n",
      ">>>>>>>这是递归新的开始<<<<<<<<<\n",
      "data1.csv是一个文件\n",
      "************data1是一个csv文件,是我们的目标文件****************\n",
      "data1.csv...........合并中\n",
      "data2.csv是一个文件\n",
      "************data2是一个csv文件,是我们的目标文件****************\n",
      "data2.csv...........合并中\n",
      "data3.csv是一个文件\n",
      "************data3是一个csv文件,是我们的目标文件****************\n",
      "data3.csv...........合并中\n",
      "data4.csv是一个文件\n",
      "************data4是一个csv文件,是我们的目标文件****************\n",
      "data4.csv...........合并中\n",
      "data5.csv是一个文件\n",
      "************data5是一个csv文件,是我们的目标文件****************\n",
      "data5.csv...........合并中\n",
      "::::::::::::part2_data是一个文件夹:::::::\n",
      ">>>>>>>这是递归新的开始<<<<<<<<<\n",
      "data10.csv是一个文件\n",
      "************data10是一个csv文件,是我们的目标文件****************\n",
      "data10.csv...........合并中\n",
      "data6.csv是一个文件\n",
      "************data6是一个csv文件,是我们的目标文件****************\n",
      "data6.csv...........合并中\n",
      "data7.csv是一个文件\n",
      "************data7是一个csv文件,是我们的目标文件****************\n",
      "data7.csv...........合并中\n",
      "data8.csv是一个文件\n",
      "************data8是一个csv文件,是我们的目标文件****************\n",
      "data8.csv...........合并中\n",
      "data9.csv是一个文件\n",
      "************data9是一个csv文件,是我们的目标文件****************\n",
      "data9.csv...........合并中\n",
      "数据合并完成\n"
     ]
    }
   ],
   "source": [
    "import pandas as pd\n",
    "import os\n",
    "path='./project_data'\n",
    "# 声明一个空的data frame，用来存储最终合并好的数据\n",
    "final_data=pd.DataFrame()\n",
    "def get_all_files(path):\n",
    "    #这里是把final_data 为一个全局变量\n",
    "    global final_data\n",
    "    print(\">>>>>>>这是递归新的开始<<<<<<<<<\")\n",
    "    # 拿到这个文件下的所有文件\n",
    "    files=os.listdir(path)\n",
    "    #files\n",
    "    # 处理这些文件\n",
    "    for file in files:\n",
    "        # 判断这些文件是文件夹还是文件\n",
    "        # 路径拼接\n",
    "        if os.path.isfile(path+\"/\"+file):\n",
    "            print(file+\"是一个文件\")\n",
    "            # 当我们知道这是一个文件的时候，我们就要判断到底是个什么类型的文件\n",
    "            filename,extension=os.path.splitext(file)\n",
    "            if extension == '.txt':\n",
    "                print(filename+\"是一个文本文件\")\n",
    "                data=pd.read_table(path+\"/\"+file)\n",
    "                print(data)\n",
    "            elif extension == '.xlsx':\n",
    "                print(filename+'是一个EXCEL文件')\n",
    "                data=pd.read_excel(path+\"/\"+file)\n",
    "                print(data)\n",
    "            elif extension == '.csv':\n",
    "                print(\"************\"+filename+\"是一个csv文件,是我们的目标文件****************\")\n",
    "                # 获取文件内容，然后把内容合并到final_data中\n",
    "                file_data=pd.read_csv(path+\"/\"+file)\n",
    "                # 开始合并数据      ignore_index这个参数的意思是重新排列索引，不用文件中自带的索引\n",
    "                final_data=final_data.append(file_data,ignore_index=True)\n",
    "                print(file+\"...........合并中\")\n",
    "        if os.path.isdir(path+\"/\"+file):\n",
    "            print(\"::::::::::::\"+file +\"是一个文件夹\"+\":::::::\")   \n",
    "            # 递归调用，把文件夹传入到get_all_files这个函数中，继续判断是文件还是文件夹，获取到这个文件夹下的所有内容\n",
    "            get_all_files( path+\"/\"+file)\n",
    "get_all_files(path)        \n",
    "print('数据合并完成')"
   ]
  },
  {
   "cell_type": "code",
   "execution_count": 40,
   "id": "f5d3347e",
   "metadata": {},
   "outputs": [
    {
     "data": {
      "text/html": [
       "<div>\n",
       "<style scoped>\n",
       "    .dataframe tbody tr th:only-of-type {\n",
       "        vertical-align: middle;\n",
       "    }\n",
       "\n",
       "    .dataframe tbody tr th {\n",
       "        vertical-align: top;\n",
       "    }\n",
       "\n",
       "    .dataframe thead th {\n",
       "        text-align: right;\n",
       "    }\n",
       "</style>\n",
       "<table border=\"1\" class=\"dataframe\">\n",
       "  <thead>\n",
       "    <tr style=\"text-align: right;\">\n",
       "      <th></th>\n",
       "      <th>Unnamed: 0</th>\n",
       "      <th>user_id</th>\n",
       "      <th>item_id</th>\n",
       "      <th>behavior_type</th>\n",
       "      <th>user_geohash</th>\n",
       "      <th>item_category</th>\n",
       "      <th>time</th>\n",
       "    </tr>\n",
       "  </thead>\n",
       "  <tbody>\n",
       "    <tr>\n",
       "      <th>0</th>\n",
       "      <td>10000000</td>\n",
       "      <td>54007195</td>\n",
       "      <td>79633535</td>\n",
       "      <td>1</td>\n",
       "      <td>NaN</td>\n",
       "      <td>3940</td>\n",
       "      <td>2014-11-24 16</td>\n",
       "    </tr>\n",
       "    <tr>\n",
       "      <th>1</th>\n",
       "      <td>10000001</td>\n",
       "      <td>136952642</td>\n",
       "      <td>337800294</td>\n",
       "      <td>1</td>\n",
       "      <td>NaN</td>\n",
       "      <td>4830</td>\n",
       "      <td>2014-11-22 12</td>\n",
       "    </tr>\n",
       "    <tr>\n",
       "      <th>2</th>\n",
       "      <td>10000002</td>\n",
       "      <td>121255158</td>\n",
       "      <td>108926788</td>\n",
       "      <td>1</td>\n",
       "      <td>NaN</td>\n",
       "      <td>1970</td>\n",
       "      <td>2014-11-22 08</td>\n",
       "    </tr>\n",
       "    <tr>\n",
       "      <th>3</th>\n",
       "      <td>10000003</td>\n",
       "      <td>72256073</td>\n",
       "      <td>144090786</td>\n",
       "      <td>1</td>\n",
       "      <td>NaN</td>\n",
       "      <td>4008</td>\n",
       "      <td>2014-12-09 20</td>\n",
       "    </tr>\n",
       "    <tr>\n",
       "      <th>4</th>\n",
       "      <td>10000004</td>\n",
       "      <td>65645933</td>\n",
       "      <td>250029185</td>\n",
       "      <td>1</td>\n",
       "      <td>9t4qqgn</td>\n",
       "      <td>2825</td>\n",
       "      <td>2014-11-25 17</td>\n",
       "    </tr>\n",
       "  </tbody>\n",
       "</table>\n",
       "</div>"
      ],
      "text/plain": [
       "   Unnamed: 0    user_id    item_id  behavior_type user_geohash  \\\n",
       "0    10000000   54007195   79633535              1          NaN   \n",
       "1    10000001  136952642  337800294              1          NaN   \n",
       "2    10000002  121255158  108926788              1          NaN   \n",
       "3    10000003   72256073  144090786              1          NaN   \n",
       "4    10000004   65645933  250029185              1      9t4qqgn   \n",
       "\n",
       "   item_category           time  \n",
       "0           3940  2014-11-24 16  \n",
       "1           4830  2014-11-22 12  \n",
       "2           1970  2014-11-22 08  \n",
       "3           4008  2014-12-09 20  \n",
       "4           2825  2014-11-25 17  "
      ]
     },
     "execution_count": 40,
     "metadata": {},
     "output_type": "execute_result"
    }
   ],
   "source": [
    "final_data.head()"
   ]
  },
  {
   "cell_type": "code",
   "execution_count": 41,
   "id": "7e47fe56",
   "metadata": {},
   "outputs": [
    {
     "data": {
      "text/plain": [
       "RangeIndex(start=0, stop=12256906, step=1)"
      ]
     },
     "execution_count": 41,
     "metadata": {},
     "output_type": "execute_result"
    }
   ],
   "source": [
    "final_data.index"
   ]
  },
  {
   "cell_type": "code",
   "execution_count": 42,
   "id": "be077cc5",
   "metadata": {},
   "outputs": [
    {
     "data": {
      "text/html": [
       "<div>\n",
       "<style scoped>\n",
       "    .dataframe tbody tr th:only-of-type {\n",
       "        vertical-align: middle;\n",
       "    }\n",
       "\n",
       "    .dataframe tbody tr th {\n",
       "        vertical-align: top;\n",
       "    }\n",
       "\n",
       "    .dataframe thead th {\n",
       "        text-align: right;\n",
       "    }\n",
       "</style>\n",
       "<table border=\"1\" class=\"dataframe\">\n",
       "  <thead>\n",
       "    <tr style=\"text-align: right;\">\n",
       "      <th></th>\n",
       "      <th>user_id</th>\n",
       "      <th>item_id</th>\n",
       "      <th>behavior_type</th>\n",
       "      <th>user_geohash</th>\n",
       "      <th>item_category</th>\n",
       "      <th>time</th>\n",
       "    </tr>\n",
       "  </thead>\n",
       "  <tbody>\n",
       "    <tr>\n",
       "      <th>0</th>\n",
       "      <td>54007195</td>\n",
       "      <td>79633535</td>\n",
       "      <td>1</td>\n",
       "      <td>NaN</td>\n",
       "      <td>3940</td>\n",
       "      <td>2014-11-24 16</td>\n",
       "    </tr>\n",
       "    <tr>\n",
       "      <th>1</th>\n",
       "      <td>136952642</td>\n",
       "      <td>337800294</td>\n",
       "      <td>1</td>\n",
       "      <td>NaN</td>\n",
       "      <td>4830</td>\n",
       "      <td>2014-11-22 12</td>\n",
       "    </tr>\n",
       "    <tr>\n",
       "      <th>2</th>\n",
       "      <td>121255158</td>\n",
       "      <td>108926788</td>\n",
       "      <td>1</td>\n",
       "      <td>NaN</td>\n",
       "      <td>1970</td>\n",
       "      <td>2014-11-22 08</td>\n",
       "    </tr>\n",
       "    <tr>\n",
       "      <th>3</th>\n",
       "      <td>72256073</td>\n",
       "      <td>144090786</td>\n",
       "      <td>1</td>\n",
       "      <td>NaN</td>\n",
       "      <td>4008</td>\n",
       "      <td>2014-12-09 20</td>\n",
       "    </tr>\n",
       "    <tr>\n",
       "      <th>4</th>\n",
       "      <td>65645933</td>\n",
       "      <td>250029185</td>\n",
       "      <td>1</td>\n",
       "      <td>9t4qqgn</td>\n",
       "      <td>2825</td>\n",
       "      <td>2014-11-25 17</td>\n",
       "    </tr>\n",
       "  </tbody>\n",
       "</table>\n",
       "</div>"
      ],
      "text/plain": [
       "     user_id    item_id  behavior_type user_geohash  item_category  \\\n",
       "0   54007195   79633535              1          NaN           3940   \n",
       "1  136952642  337800294              1          NaN           4830   \n",
       "2  121255158  108926788              1          NaN           1970   \n",
       "3   72256073  144090786              1          NaN           4008   \n",
       "4   65645933  250029185              1      9t4qqgn           2825   \n",
       "\n",
       "            time  \n",
       "0  2014-11-24 16  \n",
       "1  2014-11-22 12  \n",
       "2  2014-11-22 08  \n",
       "3  2014-12-09 20  \n",
       "4  2014-11-25 17  "
      ]
     },
     "execution_count": 42,
     "metadata": {},
     "output_type": "execute_result"
    }
   ],
   "source": [
    "#删除无用列\n",
    "final_data.drop(['Unnamed: 0'],axis=1,inplace=True)\n",
    "final_data.head()"
   ]
  },
  {
   "cell_type": "code",
   "execution_count": 13,
   "id": "5f5391fc",
   "metadata": {},
   "outputs": [],
   "source": [
    "# 授权码，其实也理解另外一种密码\n",
    "passwd= \"jcedwuaxgbaedjbi\""
   ]
  },
  {
   "cell_type": "markdown",
   "id": "8575442b",
   "metadata": {},
   "source": [
    "## 发送一个普通的邮件"
   ]
  },
  {
   "cell_type": "code",
   "execution_count": 14,
   "id": "a956af80",
   "metadata": {
    "scrolled": true
   },
   "outputs": [
    {
     "ename": "SMTPDataError",
     "evalue": "(550, b'The \"From\" header is missing or invalid. Please follow RFC5322, RFC2047, RFC822 standard protocol. https://service.mail.qq.com/detail/124/995.')",
     "output_type": "error",
     "traceback": [
      "\u001b[1;31m---------------------------------------------------------------------------\u001b[0m",
      "\u001b[1;31mSMTPDataError\u001b[0m                             Traceback (most recent call last)",
      "\u001b[1;32m~\\AppData\\Local\\Temp/ipykernel_10168/2816452407.py\u001b[0m in \u001b[0;36m<module>\u001b[1;34m\u001b[0m\n\u001b[0;32m     25\u001b[0m \u001b[0ms\u001b[0m\u001b[1;33m.\u001b[0m\u001b[0mlogin\u001b[0m\u001b[1;33m(\u001b[0m\u001b[0memail_name\u001b[0m\u001b[1;33m,\u001b[0m\u001b[0mpasswd\u001b[0m\u001b[1;33m)\u001b[0m\u001b[1;33m\u001b[0m\u001b[1;33m\u001b[0m\u001b[0m\n\u001b[0;32m     26\u001b[0m \u001b[1;31m# 执行发送\u001b[0m\u001b[1;33m\u001b[0m\u001b[1;33m\u001b[0m\u001b[0m\n\u001b[1;32m---> 27\u001b[1;33m \u001b[0ms\u001b[0m\u001b[1;33m.\u001b[0m\u001b[0msendmail\u001b[0m\u001b[1;33m(\u001b[0m\u001b[0memail_name\u001b[0m\u001b[1;33m,\u001b[0m\u001b[0mmsg_to\u001b[0m\u001b[1;33m,\u001b[0m\u001b[0mmsg\u001b[0m\u001b[1;33m.\u001b[0m\u001b[0mas_string\u001b[0m\u001b[1;33m(\u001b[0m\u001b[1;33m)\u001b[0m\u001b[1;33m)\u001b[0m\u001b[1;33m\u001b[0m\u001b[1;33m\u001b[0m\u001b[0m\n\u001b[0m\u001b[0;32m     28\u001b[0m \u001b[1;31m# 执行退出\u001b[0m\u001b[1;33m\u001b[0m\u001b[1;33m\u001b[0m\u001b[0m\n\u001b[0;32m     29\u001b[0m \u001b[0ms\u001b[0m\u001b[1;33m.\u001b[0m\u001b[0mquit\u001b[0m\u001b[1;33m(\u001b[0m\u001b[1;33m)\u001b[0m\u001b[1;33m\u001b[0m\u001b[1;33m\u001b[0m\u001b[0m\n",
      "\u001b[1;32mZ:\\Anaconda\\lib\\smtplib.py\u001b[0m in \u001b[0;36msendmail\u001b[1;34m(self, from_addr, to_addrs, msg, mail_options, rcpt_options)\u001b[0m\n\u001b[0;32m    906\u001b[0m             \u001b[1;32melse\u001b[0m\u001b[1;33m:\u001b[0m\u001b[1;33m\u001b[0m\u001b[1;33m\u001b[0m\u001b[0m\n\u001b[0;32m    907\u001b[0m                 \u001b[0mself\u001b[0m\u001b[1;33m.\u001b[0m\u001b[0m_rset\u001b[0m\u001b[1;33m(\u001b[0m\u001b[1;33m)\u001b[0m\u001b[1;33m\u001b[0m\u001b[1;33m\u001b[0m\u001b[0m\n\u001b[1;32m--> 908\u001b[1;33m             \u001b[1;32mraise\u001b[0m \u001b[0mSMTPDataError\u001b[0m\u001b[1;33m(\u001b[0m\u001b[0mcode\u001b[0m\u001b[1;33m,\u001b[0m \u001b[0mresp\u001b[0m\u001b[1;33m)\u001b[0m\u001b[1;33m\u001b[0m\u001b[1;33m\u001b[0m\u001b[0m\n\u001b[0m\u001b[0;32m    909\u001b[0m         \u001b[1;31m#if we got here then somebody got our mail\u001b[0m\u001b[1;33m\u001b[0m\u001b[1;33m\u001b[0m\u001b[0m\n\u001b[0;32m    910\u001b[0m         \u001b[1;32mreturn\u001b[0m \u001b[0msenderrs\u001b[0m\u001b[1;33m\u001b[0m\u001b[1;33m\u001b[0m\u001b[0m\n",
      "\u001b[1;31mSMTPDataError\u001b[0m: (550, b'The \"From\" header is missing or invalid. Please follow RFC5322, RFC2047, RFC822 standard protocol. https://service.mail.qq.com/detail/124/995.')"
     ]
    }
   ],
   "source": [
    "# 授权码，其实也理解另外一种密码\n",
    "passwd= \"folezllbzewhcbfg\"\n",
    "import smtplib\n",
    "from email.mime.text import MIMEText\n",
    "# 发送者的邮箱\n",
    "email_name=\"1849583099@qq.com\"\n",
    "# 我要发送给谁\n",
    "msg_to='15690913298@163.com'\n",
    "# 邮件正文是什么\n",
    "content='测试邮件的内容'\n",
    "# 这是获取到了一个设置邮件的对象\n",
    "msg=MIMEText(content)\n",
    "\n",
    "# 设置主题\n",
    "msg['Subject']='Python发送邮件测试'\n",
    "# 邮件来自于谁\n",
    "msg['From']= '大吉'\n",
    "# 再设置发给谁\n",
    "msg['To']=msg_to\n",
    "\n",
    "# 我要执行发送的过程了\n",
    "# 配置服务器\n",
    "s=smtplib.SMTP_SSL('smtp.qq.com',465)\n",
    "# 登陆邮箱\n",
    "s.login(email_name,passwd)\n",
    "# 执行发送\n",
    "s.sendmail(email_name,msg_to,msg.as_string())\n",
    "# 执行退出\n",
    "s.quit()"
   ]
  },
  {
   "cell_type": "markdown",
   "id": "04af8a55",
   "metadata": {},
   "source": [
    "## 发送一个带附件的邮件"
   ]
  },
  {
   "cell_type": "code",
   "execution_count": 15,
   "id": "533dcd65",
   "metadata": {},
   "outputs": [
    {
     "ename": "SMTPDataError",
     "evalue": "(550, b'The \"From\" header is missing or invalid. Please follow RFC5322, RFC2047, RFC822 standard protocol. https://service.mail.qq.com/detail/124/995.')",
     "output_type": "error",
     "traceback": [
      "\u001b[1;31m---------------------------------------------------------------------------\u001b[0m",
      "\u001b[1;31mSMTPDataError\u001b[0m                             Traceback (most recent call last)",
      "\u001b[1;32m~\\AppData\\Local\\Temp/ipykernel_10168/3929805534.py\u001b[0m in \u001b[0;36m<module>\u001b[1;34m\u001b[0m\n\u001b[0;32m     54\u001b[0m \u001b[0ms\u001b[0m\u001b[1;33m.\u001b[0m\u001b[0mlogin\u001b[0m\u001b[1;33m(\u001b[0m\u001b[0memail_name\u001b[0m\u001b[1;33m,\u001b[0m\u001b[0mpasswd\u001b[0m\u001b[1;33m)\u001b[0m\u001b[1;33m\u001b[0m\u001b[1;33m\u001b[0m\u001b[0m\n\u001b[0;32m     55\u001b[0m \u001b[1;31m# 执行发送\u001b[0m\u001b[1;33m\u001b[0m\u001b[1;33m\u001b[0m\u001b[0m\n\u001b[1;32m---> 56\u001b[1;33m \u001b[0ms\u001b[0m\u001b[1;33m.\u001b[0m\u001b[0msendmail\u001b[0m\u001b[1;33m(\u001b[0m\u001b[0memail_name\u001b[0m\u001b[1;33m,\u001b[0m\u001b[0mmsg_to\u001b[0m\u001b[1;33m,\u001b[0m\u001b[0mmsg\u001b[0m\u001b[1;33m.\u001b[0m\u001b[0mas_string\u001b[0m\u001b[1;33m(\u001b[0m\u001b[1;33m)\u001b[0m\u001b[1;33m)\u001b[0m\u001b[1;33m\u001b[0m\u001b[1;33m\u001b[0m\u001b[0m\n\u001b[0m\u001b[0;32m     57\u001b[0m \u001b[1;31m# 执行退出\u001b[0m\u001b[1;33m\u001b[0m\u001b[1;33m\u001b[0m\u001b[0m\n\u001b[0;32m     58\u001b[0m \u001b[0ms\u001b[0m\u001b[1;33m.\u001b[0m\u001b[0mquit\u001b[0m\u001b[1;33m(\u001b[0m\u001b[1;33m)\u001b[0m\u001b[1;33m\u001b[0m\u001b[1;33m\u001b[0m\u001b[0m\n",
      "\u001b[1;32mZ:\\Anaconda\\lib\\smtplib.py\u001b[0m in \u001b[0;36msendmail\u001b[1;34m(self, from_addr, to_addrs, msg, mail_options, rcpt_options)\u001b[0m\n\u001b[0;32m    906\u001b[0m             \u001b[1;32melse\u001b[0m\u001b[1;33m:\u001b[0m\u001b[1;33m\u001b[0m\u001b[1;33m\u001b[0m\u001b[0m\n\u001b[0;32m    907\u001b[0m                 \u001b[0mself\u001b[0m\u001b[1;33m.\u001b[0m\u001b[0m_rset\u001b[0m\u001b[1;33m(\u001b[0m\u001b[1;33m)\u001b[0m\u001b[1;33m\u001b[0m\u001b[1;33m\u001b[0m\u001b[0m\n\u001b[1;32m--> 908\u001b[1;33m             \u001b[1;32mraise\u001b[0m \u001b[0mSMTPDataError\u001b[0m\u001b[1;33m(\u001b[0m\u001b[0mcode\u001b[0m\u001b[1;33m,\u001b[0m \u001b[0mresp\u001b[0m\u001b[1;33m)\u001b[0m\u001b[1;33m\u001b[0m\u001b[1;33m\u001b[0m\u001b[0m\n\u001b[0m\u001b[0;32m    909\u001b[0m         \u001b[1;31m#if we got here then somebody got our mail\u001b[0m\u001b[1;33m\u001b[0m\u001b[1;33m\u001b[0m\u001b[0m\n\u001b[0;32m    910\u001b[0m         \u001b[1;32mreturn\u001b[0m \u001b[0msenderrs\u001b[0m\u001b[1;33m\u001b[0m\u001b[1;33m\u001b[0m\u001b[0m\n",
      "\u001b[1;31mSMTPDataError\u001b[0m: (550, b'The \"From\" header is missing or invalid. Please follow RFC5322, RFC2047, RFC822 standard protocol. https://service.mail.qq.com/detail/124/995.')"
     ]
    }
   ],
   "source": [
    "# 授权码，其实也理解另外一种密码\n",
    "passwd= \"folezllbzewhcbfg\"\n",
    "import smtplib\n",
    "from email.mime.text import MIMEText\n",
    "from email.mime.multipart import MIMEMultipart\n",
    "# 发送者的邮箱\n",
    "email_name=\"1849583099@qq.com\"\n",
    "# 我要发送给谁\n",
    "msg_to='15690913298@163.com'\n",
    "# 邮件正文是什么\n",
    "content='测试邮件的内容'\n",
    "# 这是获取到了一个设置邮件的对象\n",
    "msg=MIMEMultipart()\n",
    "part1=MIMEText(content)\n",
    "\n",
    "#附加邮件正文\n",
    "msg.attach(part1)\n",
    "\n",
    "# 这里要开始加附件\n",
    "\n",
    "# 1. 文本类型的附件\n",
    "att1=MIMEText(open('./data/学习目标.txt','rb').read(),'plain','urf-8')\n",
    "att1['Content-Type']='application/octet-stream'\n",
    "# 注意这里的filename就是我们发送邮件的时候，要显示的那个名字，可以任意写\n",
    "att1.add_header('Content-Disposition','attachment',filename=('gbk',\"\",'我的学习目标.txt'))\n",
    "msg.attach(att1)\n",
    "\n",
    "# 2.图片类型的附件\n",
    "att2=MIMEText(open('评论.png','rb').read(),'plain','urf-8')\n",
    "att2['Content-Type']='application/octet-stream'\n",
    "# 注意这里的filename就是我们发送邮件的时候，要显示的那个名字，可以任意写\n",
    "att2.add_header('Content-Disposition','attachment',filename=('gbk',\"\",'词云图.png'))\n",
    "msg.attach(att2)\n",
    "\n",
    "# 3.其他格式的邮件\n",
    "att3=MIMEText(open('自动化办公.ipynb','rb').read(),'plain','urf-8')\n",
    "att3['Content-Type']='application/octet-stream'\n",
    "# 注意这里的filename就是我们发送邮件的时候，要显示的那个名字，可以任意写\n",
    "att3.add_header('Content-Disposition','attachment',filename=('gbk',\"\",'自动化办公.ipynb'))\n",
    "msg.attach(att3)\n",
    "\n",
    "\n",
    "# 设置主题\n",
    "msg['Subject']='Python发送邮件测试'\n",
    "# 邮件来自于谁\n",
    "msg['From']= '大吉'\n",
    "# 再设置发给谁\n",
    "msg['To']=msg_to\n",
    "\n",
    "# 我要执行发送的过程了\n",
    "# 配置服务器\n",
    "s=smtplib.SMTP_SSL('smtp.qq.com',465)\n",
    "# 登陆邮箱\n",
    "s.login(email_name,passwd)\n",
    "# 执行发送\n",
    "s.sendmail(email_name,msg_to,msg.as_string())\n",
    "# 执行退出\n",
    "s.quit()"
   ]
  },
  {
   "cell_type": "markdown",
   "id": "872eebf6",
   "metadata": {},
   "source": [
    "## 给多人发送邮件"
   ]
  },
  {
   "cell_type": "code",
   "execution_count": 7,
   "id": "e0ff8ba5",
   "metadata": {},
   "outputs": [
    {
     "ename": "SMTPDataError",
     "evalue": "(550, b'The \"From\" header is missing or invalid. Please follow RFC5322, RFC2047, RFC822 standard protocol. https://service.mail.qq.com/detail/124/995.')",
     "output_type": "error",
     "traceback": [
      "\u001b[1;31m---------------------------------------------------------------------------\u001b[0m",
      "\u001b[1;31mSMTPDataError\u001b[0m                             Traceback (most recent call last)",
      "\u001b[1;32m~\\AppData\\Local\\Temp/ipykernel_10168/764231133.py\u001b[0m in \u001b[0;36m<module>\u001b[1;34m\u001b[0m\n\u001b[0;32m     64\u001b[0m \u001b[0ms\u001b[0m\u001b[1;33m.\u001b[0m\u001b[0mlogin\u001b[0m\u001b[1;33m(\u001b[0m\u001b[0memail_name\u001b[0m\u001b[1;33m,\u001b[0m\u001b[0mpasswd\u001b[0m\u001b[1;33m)\u001b[0m\u001b[1;33m\u001b[0m\u001b[1;33m\u001b[0m\u001b[0m\n\u001b[0;32m     65\u001b[0m \u001b[1;31m# 执行发送\u001b[0m\u001b[1;33m\u001b[0m\u001b[1;33m\u001b[0m\u001b[0m\n\u001b[1;32m---> 66\u001b[1;33m \u001b[0ms\u001b[0m\u001b[1;33m.\u001b[0m\u001b[0msendmail\u001b[0m\u001b[1;33m(\u001b[0m\u001b[0memail_name\u001b[0m\u001b[1;33m,\u001b[0m\u001b[0mmsg_to\u001b[0m\u001b[1;33m+\u001b[0m\u001b[0macc_to\u001b[0m\u001b[1;33m,\u001b[0m\u001b[0mmsg\u001b[0m\u001b[1;33m.\u001b[0m\u001b[0mas_string\u001b[0m\u001b[1;33m(\u001b[0m\u001b[1;33m)\u001b[0m\u001b[1;33m)\u001b[0m\u001b[1;33m\u001b[0m\u001b[1;33m\u001b[0m\u001b[0m\n\u001b[0m\u001b[0;32m     67\u001b[0m \u001b[1;31m# 执行退出\u001b[0m\u001b[1;33m\u001b[0m\u001b[1;33m\u001b[0m\u001b[0m\n\u001b[0;32m     68\u001b[0m \u001b[0ms\u001b[0m\u001b[1;33m.\u001b[0m\u001b[0mquit\u001b[0m\u001b[1;33m(\u001b[0m\u001b[1;33m)\u001b[0m\u001b[1;33m\u001b[0m\u001b[1;33m\u001b[0m\u001b[0m\n",
      "\u001b[1;32mZ:\\Anaconda\\lib\\smtplib.py\u001b[0m in \u001b[0;36msendmail\u001b[1;34m(self, from_addr, to_addrs, msg, mail_options, rcpt_options)\u001b[0m\n\u001b[0;32m    906\u001b[0m             \u001b[1;32melse\u001b[0m\u001b[1;33m:\u001b[0m\u001b[1;33m\u001b[0m\u001b[1;33m\u001b[0m\u001b[0m\n\u001b[0;32m    907\u001b[0m                 \u001b[0mself\u001b[0m\u001b[1;33m.\u001b[0m\u001b[0m_rset\u001b[0m\u001b[1;33m(\u001b[0m\u001b[1;33m)\u001b[0m\u001b[1;33m\u001b[0m\u001b[1;33m\u001b[0m\u001b[0m\n\u001b[1;32m--> 908\u001b[1;33m             \u001b[1;32mraise\u001b[0m \u001b[0mSMTPDataError\u001b[0m\u001b[1;33m(\u001b[0m\u001b[0mcode\u001b[0m\u001b[1;33m,\u001b[0m \u001b[0mresp\u001b[0m\u001b[1;33m)\u001b[0m\u001b[1;33m\u001b[0m\u001b[1;33m\u001b[0m\u001b[0m\n\u001b[0m\u001b[0;32m    909\u001b[0m         \u001b[1;31m#if we got here then somebody got our mail\u001b[0m\u001b[1;33m\u001b[0m\u001b[1;33m\u001b[0m\u001b[0m\n\u001b[0;32m    910\u001b[0m         \u001b[1;32mreturn\u001b[0m \u001b[0msenderrs\u001b[0m\u001b[1;33m\u001b[0m\u001b[1;33m\u001b[0m\u001b[0m\n",
      "\u001b[1;31mSMTPDataError\u001b[0m: (550, b'The \"From\" header is missing or invalid. Please follow RFC5322, RFC2047, RFC822 standard protocol. https://service.mail.qq.com/detail/124/995.')"
     ]
    }
   ],
   "source": [
    "# 授权码，其实也理解另外一种密码\n",
    "passwd= \"folezllbzewhcbfg\"\n",
    "import smtplib\n",
    "from email.mime.text import MIMEText\n",
    "from email.mime.multipart import MIMEMultipart\n",
    "\n",
    "# 发送者的邮箱\n",
    "email_name=\"1849583099@qq.com\"\n",
    "\n",
    "# 我要发送给谁\n",
    "msg_to=['15690913298@163.com','1849583099@qq.com']\n",
    "# 我要抄送给谁\n",
    "acc_to=[\"dingzhang0521@163.com\"]\n",
    "\n",
    "# 邮件正文是什么\n",
    "content='测试邮件的内容'\n",
    "\n",
    "# 这是获取到了一个设置邮件的对象\n",
    "msg=MIMEMultipart()\n",
    "part1=MIMEText(content)\n",
    "\n",
    "#附加邮件正文\n",
    "msg.attach(part1)\n",
    "\n",
    "# 设置主题\n",
    "msg['Subject']='Python发送邮件测试'\n",
    "# 邮件来自于谁\n",
    "msg['From']= '大吉'\n",
    "# 再设置发给谁\n",
    "msg['To']=';'.join(msg_to)\n",
    "\n",
    "# 我要抄送给谁\n",
    "msg['Cc']=';'.join(acc_to)\n",
    "\n",
    "# 这里要开始加附件\n",
    "\n",
    "# 1. 文本类型的附件\n",
    "att1=MIMEText(open('./data/学习目标.txt','rb').read(),'plain','urf-8')\n",
    "att1['Content-Type']='application/octet-stream'\n",
    "# 注意这里的filename就是我们发送邮件的时候，要显示的那个名字，可以任意写\n",
    "att1.add_header('Content-Disposition','attachment',filename=('gbk',\"\",'我的学习目标.txt'))\n",
    "msg.attach(att1)\n",
    "\n",
    "# 2.图片类型的附件\n",
    "att2=MIMEText(open('评论.png','rb').read(),'plain','urf-8')\n",
    "att2['Content-Type']='application/octet-stream'\n",
    "# 注意这里的filename就是我们发送邮件的时候，要显示的那个名字，可以任意写\n",
    "att2.add_header('Content-Disposition','attachment',filename=('gbk',\"\",'词云图.png'))\n",
    "msg.attach(att2)\n",
    "\n",
    "# 3.其他格式的邮件\n",
    "att3=MIMEText(open('自动化办公.ipynb','rb').read(),'plain','urf-8')\n",
    "att3['Content-Type']='application/octet-stream'\n",
    "# 注意这里的filename就是我们发送邮件的时候，要显示的那个名字，可以任意写\n",
    "att3.add_header('Content-Disposition','attachment',filename=('gbk',\"\",'自动化办公.ipynb'))\n",
    "msg.attach(att3)\n",
    "\n",
    "\n",
    "# 我要执行发送的过程了\n",
    "\n",
    "# 配置服务器\n",
    "s=smtplib.SMTP_SSL('smtp.qq.com',465)\n",
    "# 登陆邮箱\n",
    "s.login(email_name,passwd)\n",
    "# 执行发送\n",
    "s.sendmail(email_name,msg_to+acc_to,msg.as_string())\n",
    "# 执行退出\n",
    "s.quit()"
   ]
  },
  {
   "cell_type": "markdown",
   "id": "1813801d",
   "metadata": {},
   "source": [
    "## 封装发送邮件方法"
   ]
  },
  {
   "cell_type": "code",
   "execution_count": 8,
   "id": "5e46e950",
   "metadata": {},
   "outputs": [],
   "source": [
    "import smtplib\n",
    "from email.mime.text import MIMEText\n",
    "from email.mime.multipart import MIMEMultipart\n",
    "\n",
    "def send_email(email_name:str,\n",
    "              passwd:str,\n",
    "              msg_to:str,\n",
    "              subject:str,\n",
    "              content:str,\n",
    "              acc_to:list=None,\n",
    "              att_file:list=None,\n",
    "              from_name:str=None)->bool:#返回值是bool形式\n",
    "    \"\"\"\n",
    "    发送邮件方法\n",
    "    :param email_name:发送者邮件地址\n",
    "    :param passwd:发送者邮箱密码\n",
    "    :param msg_to:收件人地址列表，参数类型是列表\n",
    "    :param subject:邮件标题，字符串类型\n",
    "    :param content:邮件的文本内容，字符串类型\n",
    "    :param acc_to:抄送人地址列表，参数类型是列表，默认为空\n",
    "    :param att_file:附件列表，参数类型是列表，默认为空\n",
    "    :param from_name:显示发件人的名字，字符串类型，默认为空\n",
    "    :return bool:成功返回为True,失败返回False\n",
    "    \"\"\"\n",
    "\n",
    "    # 这是获取到了一个设置邮件的对象\n",
    "    msg=MIMEMultipart()\n",
    "    part1=MIMEText(content)\n",
    "\n",
    "    #附加邮件正文\n",
    "    msg.attach(part1)\n",
    "    \n",
    "    # 设置主题\n",
    "    msg['Subject']= subject\n",
    "    # 邮件来自于谁\n",
    "    msg['From']= from_name\n",
    "    # 再设置发给谁\n",
    "    msg['To']=';'.join(msg_to)\n",
    "    # 我要抄送给谁\n",
    "    msg['Cc']=';'.join(acc_to)\n",
    "\n",
    "\n",
    "    # 这里要开始加附件\n",
    "    \n",
    "    # 判断是否有附件\n",
    "    if len(att_file)>0:\n",
    "        for file in att_file:\n",
    "            print(file)\n",
    "\n",
    "            # 1. 文本类型的附件\n",
    "            att=MIMEText(open(file,'rb').read(),'plain','urf-8')\n",
    "            att['Content-Type']='applicatioin/octet-stream'\n",
    "            # 获取文件名字\n",
    "            file_name_list=file.split('/')\n",
    "            # 获取最后文件的长度，计算后得到最后一个元素的角标（索引）的数字\n",
    "            file_number=len(file.split('/'))-1\n",
    "            file_name=file_name_list[file_number]\n",
    "            # 注意这里的filename就是我们发送邮件的时候，要显示的那个名字，可以任意写\n",
    "            att.add_header('Content-Disposition','attachment',filename=('gbk',\"\",file_name))\n",
    "            msg.attach(att)\n",
    "\n",
    "\n",
    "\n",
    "    # 我要执行发送的过程了\n",
    "    try:\n",
    "        # 配置服务器\n",
    "        s=smtplib.SMTP_SSL('smtp.qq.com',465)\n",
    "        # 登陆邮箱\n",
    "        s.login(email_name,passwd)\n",
    "        # 执行发送\n",
    "        s.sendmail(email_name,msg_to+acc_to,msg.as_string())\n",
    "        print('发送成功')\n",
    "        return True\n",
    "    except s.SMTPException:\n",
    "        print('发送失败')\n",
    "        return False\n",
    "    finally:\n",
    "        # 执行退出\n",
    "        s.quit()"
   ]
  },
  {
   "cell_type": "code",
   "execution_count": 9,
   "id": "94508bd7",
   "metadata": {},
   "outputs": [
    {
     "name": "stdout",
     "output_type": "stream",
     "text": [
      "./data/学习目标.txt\n",
      "评论.png\n",
      "自动化办公.ipynb\n"
     ]
    },
    {
     "ename": "AttributeError",
     "evalue": "'SMTP_SSL' object has no attribute 'SMTPException'",
     "output_type": "error",
     "traceback": [
      "\u001b[1;31m---------------------------------------------------------------------------\u001b[0m",
      "\u001b[1;31mSMTPDataError\u001b[0m                             Traceback (most recent call last)",
      "\u001b[1;32m~\\AppData\\Local\\Temp/ipykernel_10168/3636597637.py\u001b[0m in \u001b[0;36msend_email\u001b[1;34m(email_name, passwd, msg_to, subject, content, acc_to, att_file, from_name)\u001b[0m\n\u001b[0;32m     70\u001b[0m         \u001b[1;31m# 执行发送\u001b[0m\u001b[1;33m\u001b[0m\u001b[1;33m\u001b[0m\u001b[0m\n\u001b[1;32m---> 71\u001b[1;33m         \u001b[0ms\u001b[0m\u001b[1;33m.\u001b[0m\u001b[0msendmail\u001b[0m\u001b[1;33m(\u001b[0m\u001b[0memail_name\u001b[0m\u001b[1;33m,\u001b[0m\u001b[0mmsg_to\u001b[0m\u001b[1;33m+\u001b[0m\u001b[0macc_to\u001b[0m\u001b[1;33m,\u001b[0m\u001b[0mmsg\u001b[0m\u001b[1;33m.\u001b[0m\u001b[0mas_string\u001b[0m\u001b[1;33m(\u001b[0m\u001b[1;33m)\u001b[0m\u001b[1;33m)\u001b[0m\u001b[1;33m\u001b[0m\u001b[1;33m\u001b[0m\u001b[0m\n\u001b[0m\u001b[0;32m     72\u001b[0m         \u001b[0mprint\u001b[0m\u001b[1;33m(\u001b[0m\u001b[1;34m'发送成功'\u001b[0m\u001b[1;33m)\u001b[0m\u001b[1;33m\u001b[0m\u001b[1;33m\u001b[0m\u001b[0m\n",
      "\u001b[1;32mZ:\\Anaconda\\lib\\smtplib.py\u001b[0m in \u001b[0;36msendmail\u001b[1;34m(self, from_addr, to_addrs, msg, mail_options, rcpt_options)\u001b[0m\n\u001b[0;32m    907\u001b[0m                 \u001b[0mself\u001b[0m\u001b[1;33m.\u001b[0m\u001b[0m_rset\u001b[0m\u001b[1;33m(\u001b[0m\u001b[1;33m)\u001b[0m\u001b[1;33m\u001b[0m\u001b[1;33m\u001b[0m\u001b[0m\n\u001b[1;32m--> 908\u001b[1;33m             \u001b[1;32mraise\u001b[0m \u001b[0mSMTPDataError\u001b[0m\u001b[1;33m(\u001b[0m\u001b[0mcode\u001b[0m\u001b[1;33m,\u001b[0m \u001b[0mresp\u001b[0m\u001b[1;33m)\u001b[0m\u001b[1;33m\u001b[0m\u001b[1;33m\u001b[0m\u001b[0m\n\u001b[0m\u001b[0;32m    909\u001b[0m         \u001b[1;31m#if we got here then somebody got our mail\u001b[0m\u001b[1;33m\u001b[0m\u001b[1;33m\u001b[0m\u001b[0m\n",
      "\u001b[1;31mSMTPDataError\u001b[0m: (550, b'The \"From\" header is missing or invalid. Please follow RFC5322, RFC2047, RFC822 standard protocol. https://service.mail.qq.com/detail/124/995.')",
      "\nDuring handling of the above exception, another exception occurred:\n",
      "\u001b[1;31mAttributeError\u001b[0m                            Traceback (most recent call last)",
      "\u001b[1;32m~\\AppData\\Local\\Temp/ipykernel_10168/776876224.py\u001b[0m in \u001b[0;36m<module>\u001b[1;34m\u001b[0m\n\u001b[0;32m     12\u001b[0m \u001b[1;31m# 添加附件\u001b[0m\u001b[1;33m\u001b[0m\u001b[1;33m\u001b[0m\u001b[0m\n\u001b[0;32m     13\u001b[0m \u001b[0matt_file\u001b[0m\u001b[1;33m=\u001b[0m\u001b[1;33m[\u001b[0m\u001b[1;34m'./data/学习目标.txt'\u001b[0m\u001b[1;33m,\u001b[0m\u001b[1;34m'评论.png'\u001b[0m\u001b[1;33m,\u001b[0m\u001b[1;34m'自动化办公.ipynb'\u001b[0m\u001b[1;33m]\u001b[0m\u001b[1;33m\u001b[0m\u001b[1;33m\u001b[0m\u001b[0m\n\u001b[1;32m---> 14\u001b[1;33m send_email(email_name=email_name,\n\u001b[0m\u001b[0;32m     15\u001b[0m            \u001b[0mpasswd\u001b[0m\u001b[1;33m=\u001b[0m\u001b[0mpasswd\u001b[0m\u001b[1;33m,\u001b[0m\u001b[1;33m\u001b[0m\u001b[1;33m\u001b[0m\u001b[0m\n\u001b[0;32m     16\u001b[0m            \u001b[0mmsg_to\u001b[0m\u001b[1;33m=\u001b[0m\u001b[0mmsg_to\u001b[0m\u001b[1;33m,\u001b[0m\u001b[1;33m\u001b[0m\u001b[1;33m\u001b[0m\u001b[0m\n",
      "\u001b[1;32m~\\AppData\\Local\\Temp/ipykernel_10168/3636597637.py\u001b[0m in \u001b[0;36msend_email\u001b[1;34m(email_name, passwd, msg_to, subject, content, acc_to, att_file, from_name)\u001b[0m\n\u001b[0;32m     72\u001b[0m         \u001b[0mprint\u001b[0m\u001b[1;33m(\u001b[0m\u001b[1;34m'发送成功'\u001b[0m\u001b[1;33m)\u001b[0m\u001b[1;33m\u001b[0m\u001b[1;33m\u001b[0m\u001b[0m\n\u001b[0;32m     73\u001b[0m         \u001b[1;32mreturn\u001b[0m \u001b[1;32mTrue\u001b[0m\u001b[1;33m\u001b[0m\u001b[1;33m\u001b[0m\u001b[0m\n\u001b[1;32m---> 74\u001b[1;33m     \u001b[1;32mexcept\u001b[0m \u001b[0ms\u001b[0m\u001b[1;33m.\u001b[0m\u001b[0mSMTPException\u001b[0m\u001b[1;33m:\u001b[0m\u001b[1;33m\u001b[0m\u001b[1;33m\u001b[0m\u001b[0m\n\u001b[0m\u001b[0;32m     75\u001b[0m         \u001b[0mprint\u001b[0m\u001b[1;33m(\u001b[0m\u001b[1;34m'发送失败'\u001b[0m\u001b[1;33m)\u001b[0m\u001b[1;33m\u001b[0m\u001b[1;33m\u001b[0m\u001b[0m\n\u001b[0;32m     76\u001b[0m         \u001b[1;32mreturn\u001b[0m \u001b[1;32mFalse\u001b[0m\u001b[1;33m\u001b[0m\u001b[1;33m\u001b[0m\u001b[0m\n",
      "\u001b[1;31mAttributeError\u001b[0m: 'SMTP_SSL' object has no attribute 'SMTPException'"
     ]
    }
   ],
   "source": [
    "passwd= \"folezllbzewhcbfg\"\n",
    "# 发送者的邮箱\n",
    "email_name=\"1849583099@qq.com\"\n",
    "# 我要发送给谁\n",
    "msg_to=['15690913298@163.com','1849583099@qq.com']\n",
    "# 我要抄送给谁\n",
    "acc_to=[\"dingzhang0521@163.com\"]\n",
    "# 邮件正文是什么\n",
    "content='测试邮件的内容'\n",
    "subject='自动化发送邮件'\n",
    "from_name='大吉'\n",
    "# 添加附件\n",
    "att_file=['./data/学习目标.txt','评论.png','自动化办公.ipynb']\n",
    "send_email(email_name=email_name,\n",
    "           passwd=passwd,\n",
    "           msg_to=msg_to,\n",
    "           acc_to=acc_to,\n",
    "           content=content,\n",
    "           subject=subject,\n",
    "           from_name=from_name,\n",
    "           att_file=att_file)"
   ]
  },
  {
   "cell_type": "markdown",
   "id": "273ac8da",
   "metadata": {},
   "source": [
    "## 发送带漂亮格式的html文件"
   ]
  },
  {
   "cell_type": "code",
   "execution_count": 8,
   "id": "befb1e00",
   "metadata": {},
   "outputs": [],
   "source": [
    "import smtplib\n",
    "from email.mime.text import MIMEText\n",
    "from email.mime.multipart import MIMEMultipart\n",
    "from email.mime.image import MIMEImage\n",
    "def send_email(email_name:str,\n",
    "              passwd:str,\n",
    "              msg_to:str,\n",
    "              subject:str,\n",
    "              content:str,\n",
    "              image_html:bool=False,\n",
    "              image_path:dict=None,\n",
    "              acc_to:list=None,\n",
    "              att_file:list=None,\n",
    "              from_name:str=None)->bool:#返回值是bool形式\n",
    "    \"\"\"\n",
    "    发送邮件方法\n",
    "    :param email_name:发送者邮件地址\n",
    "    :param passwd:发送者邮箱密码\n",
    "    :param msg_to:收件人地址列表，参数类型是列表\n",
    "    :param subject:邮件标题，字符串类型\n",
    "    :param content:邮件的文本内容，字符串类型\n",
    "    :param acc_to:抄送人地址列表，参数类型是列表，默认为空\n",
    "    :param att_file:附件列表，参数类型是列表，默认为空\n",
    "    :param from_name:显示发件人的名字，字符串类型，默认为空\n",
    "    :param image_html:布尔值，默认为False，如果为True，则包含图片，是HTML格式的正文内容\n",
    "    :param image_path:图片路径，字典类型{\"图片id\":\"图片路径\"}，默认为空，这个参数只有在image_html为True的时候才生效\n",
    "    :return bool:成功返回为True,失败返回False\n",
    "    \"\"\"\n",
    "\n",
    "    # 这是获取到了一个设置邮件的对象\n",
    "    msg=MIMEMultipart()\n",
    "    part1=MIMEText(content)\n",
    "\n",
    "    #附加邮件正文\n",
    "    msg.attach(part1)\n",
    "    \n",
    "    # 设置主题\n",
    "    msg['Subject']= subject\n",
    "    # 邮件来自于谁\n",
    "    msg['From']= from_name\n",
    "    # 再设置发给谁\n",
    "    msg['To']=';'.join(msg_to)\n",
    "    # 我要抄送给谁\n",
    "    msg['Cc']=';'.join(acc_to)\n",
    "\n",
    "\n",
    "    # 这里要开始加附件\n",
    "    \n",
    "    # 判断是否有附件\n",
    "    if len(att_file)>0:\n",
    "        for file in att_file:\n",
    "            print(file)\n",
    "\n",
    "            # 1. 文本类型的附件\n",
    "            att=MIMEText(open(file,'rb').read(),'plain','urf-8')\n",
    "            att['Content-Type']='applicatioin/octet-stream'\n",
    "            # 获取文件名字\n",
    "            file_name_list=file.split('/')\n",
    "            # 获取最后文件的长度，计算后得到最后一个元素的角标（索引）的数字\n",
    "            file_number=len(file.split('/'))-1\n",
    "            file_name=file_name_list[file_number]\n",
    "            # 注意这里的filename就是我们发送邮件的时候，要显示的那个名字，可以任意写\n",
    "            att.add_header('Content-Disposition','attachment',filename=('gbk',\"\",file_name))\n",
    "            msg.attach(att)\n",
    "    # 判断是否是html格式，然后对图片内容进行挂载\n",
    "    if image_html:\n",
    "        msg.attach(MIMEText(content,\"html\",'utf-8'))\n",
    "        for image_id,image_path in image_path.items():\n",
    "            print(image_path)\n",
    "            file=open(image_path,'rb')\n",
    "            img_data=file.read()\n",
    "            file.close()\n",
    "            img=MIMEImage(img_data)\n",
    "            img.add_header(\"Content-ID\",image_id)\n",
    "            msg.attach(img)\n",
    "    else:\n",
    "        msg.attach(MIMEText(content))\n",
    "\n",
    "\n",
    "\n",
    "    # 我要执行发送的过程了\n",
    "    try:\n",
    "        # 配置服务器\n",
    "        s=smtplib.SMTP_SSL('smtp.qq.com',465)\n",
    "        # 登陆邮箱\n",
    "        s.login(email_name,passwd)\n",
    "        # 执行发送\n",
    "        s.sendmail(email_name,msg_to+acc_to,msg.as_string())\n",
    "        print('发送成功')\n",
    "        return True\n",
    "    except s.SMTPException:\n",
    "        print('发送失败')\n",
    "        return False\n",
    "    finally:\n",
    "        # 执行退出\n",
    "        s.quit()"
   ]
  },
  {
   "cell_type": "code",
   "execution_count": null,
   "id": "67a3b740",
   "metadata": {},
   "outputs": [],
   "source": [
    "# 邮件正文是什么\n",
    "content= \"\"\"\n",
    "<html>\n",
    "    <body>\n",
    "        <h1>数据分析报告</h1>\n",
    "        <img src='cid:imageid' alt='imageid'>\n",
    "        <br>\n",
    "        <img src='cid:imageid1' alt='imageid1'>\n",
    "    </body>\n",
    "</html>\n",
    "\n",
    "\"\"\"\n",
    "image_path={'imageid':'评论.png'，\n",
    "             'imageid':'评论.png'}\n",
    "passwd= \"folezllbzewhcbfg\"\n",
    "# 发送者的邮箱\n",
    "email_name=\"1849583099@qq.com\"\n",
    "# 我要发送给谁\n",
    "msg_to=['15690913298@163.com','1849583099@qq.com']\n",
    "# 我要抄送给谁\n",
    "acc_to=[\"dingzhang0521@163.com\"]\n",
    "# 邮件正文是什么\n",
    "content='测试邮件的内容'\n",
    "subject='自动化发送邮件'\n",
    "from_name='大吉'\n",
    "# 添加附件\n",
    "att_file=['./data/学习目标.txt','评论.png','自动化办公.ipynb']\n",
    "send_email(email_name=email_name,\n",
    "           passwd=passwd,\n",
    "           msg_to=msg_to,\n",
    "           acc_to=acc_to,\n",
    "           content=content,\n",
    "           image_html=True,\n",
    "           image_path=image_path,\n",
    "           subject=subject,\n",
    "           from_name=from_name,\n",
    "           att_file=att_file)"
   ]
  },
  {
   "cell_type": "markdown",
   "id": "58923be0",
   "metadata": {},
   "source": [
    "## 在正文中,把文字写的漂亮一些"
   ]
  },
  {
   "cell_type": "code",
   "execution_count": 9,
   "id": "a3161324",
   "metadata": {},
   "outputs": [
    {
     "name": "stdout",
     "output_type": "stream",
     "text": [
      "./data/学习目标.txt\n",
      "评论.png\n",
      "自动化办公.ipynb\n",
      "评论.png\n"
     ]
    },
    {
     "ename": "AttributeError",
     "evalue": "'SMTP_SSL' object has no attribute 'SMTPException'",
     "output_type": "error",
     "traceback": [
      "\u001b[1;31m---------------------------------------------------------------------------\u001b[0m",
      "\u001b[1;31mSMTPDataError\u001b[0m                             Traceback (most recent call last)",
      "\u001b[1;32m~\\AppData\\Local\\Temp/ipykernel_19548/1074862858.py\u001b[0m in \u001b[0;36msend_email\u001b[1;34m(email_name, passwd, msg_to, subject, content, image_html, image_path, acc_to, att_file, from_name)\u001b[0m\n\u001b[0;32m     87\u001b[0m         \u001b[1;31m# 执行发送\u001b[0m\u001b[1;33m\u001b[0m\u001b[1;33m\u001b[0m\u001b[0m\n\u001b[1;32m---> 88\u001b[1;33m         \u001b[0ms\u001b[0m\u001b[1;33m.\u001b[0m\u001b[0msendmail\u001b[0m\u001b[1;33m(\u001b[0m\u001b[0memail_name\u001b[0m\u001b[1;33m,\u001b[0m\u001b[0mmsg_to\u001b[0m\u001b[1;33m+\u001b[0m\u001b[0macc_to\u001b[0m\u001b[1;33m,\u001b[0m\u001b[0mmsg\u001b[0m\u001b[1;33m.\u001b[0m\u001b[0mas_string\u001b[0m\u001b[1;33m(\u001b[0m\u001b[1;33m)\u001b[0m\u001b[1;33m)\u001b[0m\u001b[1;33m\u001b[0m\u001b[1;33m\u001b[0m\u001b[0m\n\u001b[0m\u001b[0;32m     89\u001b[0m         \u001b[0mprint\u001b[0m\u001b[1;33m(\u001b[0m\u001b[1;34m'发送成功'\u001b[0m\u001b[1;33m)\u001b[0m\u001b[1;33m\u001b[0m\u001b[1;33m\u001b[0m\u001b[0m\n",
      "\u001b[1;32mZ:\\Anaconda\\lib\\smtplib.py\u001b[0m in \u001b[0;36msendmail\u001b[1;34m(self, from_addr, to_addrs, msg, mail_options, rcpt_options)\u001b[0m\n\u001b[0;32m    907\u001b[0m                 \u001b[0mself\u001b[0m\u001b[1;33m.\u001b[0m\u001b[0m_rset\u001b[0m\u001b[1;33m(\u001b[0m\u001b[1;33m)\u001b[0m\u001b[1;33m\u001b[0m\u001b[1;33m\u001b[0m\u001b[0m\n\u001b[1;32m--> 908\u001b[1;33m             \u001b[1;32mraise\u001b[0m \u001b[0mSMTPDataError\u001b[0m\u001b[1;33m(\u001b[0m\u001b[0mcode\u001b[0m\u001b[1;33m,\u001b[0m \u001b[0mresp\u001b[0m\u001b[1;33m)\u001b[0m\u001b[1;33m\u001b[0m\u001b[1;33m\u001b[0m\u001b[0m\n\u001b[0m\u001b[0;32m    909\u001b[0m         \u001b[1;31m#if we got here then somebody got our mail\u001b[0m\u001b[1;33m\u001b[0m\u001b[1;33m\u001b[0m\u001b[0m\n",
      "\u001b[1;31mSMTPDataError\u001b[0m: (550, b'The \"From\" header is missing or invalid. Please follow RFC5322, RFC2047, RFC822 standard protocol. https://service.mail.qq.com/detail/124/995.')",
      "\nDuring handling of the above exception, another exception occurred:\n",
      "\u001b[1;31mAttributeError\u001b[0m                            Traceback (most recent call last)",
      "\u001b[1;32m~\\AppData\\Local\\Temp/ipykernel_19548/3186737927.py\u001b[0m in \u001b[0;36m<module>\u001b[1;34m\u001b[0m\n\u001b[0;32m     65\u001b[0m \u001b[1;31m# 添加附件\u001b[0m\u001b[1;33m\u001b[0m\u001b[1;33m\u001b[0m\u001b[0m\n\u001b[0;32m     66\u001b[0m \u001b[0matt_file\u001b[0m\u001b[1;33m=\u001b[0m\u001b[1;33m[\u001b[0m\u001b[1;34m'./data/学习目标.txt'\u001b[0m\u001b[1;33m,\u001b[0m\u001b[1;34m'评论.png'\u001b[0m\u001b[1;33m,\u001b[0m\u001b[1;34m'自动化办公.ipynb'\u001b[0m\u001b[1;33m]\u001b[0m\u001b[1;33m\u001b[0m\u001b[1;33m\u001b[0m\u001b[0m\n\u001b[1;32m---> 67\u001b[1;33m send_email(email_name=email_name,\n\u001b[0m\u001b[0;32m     68\u001b[0m            \u001b[0mpasswd\u001b[0m\u001b[1;33m=\u001b[0m\u001b[0mpasswd\u001b[0m\u001b[1;33m,\u001b[0m\u001b[1;33m\u001b[0m\u001b[1;33m\u001b[0m\u001b[0m\n\u001b[0;32m     69\u001b[0m            \u001b[0mmsg_to\u001b[0m\u001b[1;33m=\u001b[0m\u001b[0mmsg_to\u001b[0m\u001b[1;33m,\u001b[0m\u001b[1;33m\u001b[0m\u001b[1;33m\u001b[0m\u001b[0m\n",
      "\u001b[1;32m~\\AppData\\Local\\Temp/ipykernel_19548/1074862858.py\u001b[0m in \u001b[0;36msend_email\u001b[1;34m(email_name, passwd, msg_to, subject, content, image_html, image_path, acc_to, att_file, from_name)\u001b[0m\n\u001b[0;32m     89\u001b[0m         \u001b[0mprint\u001b[0m\u001b[1;33m(\u001b[0m\u001b[1;34m'发送成功'\u001b[0m\u001b[1;33m)\u001b[0m\u001b[1;33m\u001b[0m\u001b[1;33m\u001b[0m\u001b[0m\n\u001b[0;32m     90\u001b[0m         \u001b[1;32mreturn\u001b[0m \u001b[1;32mTrue\u001b[0m\u001b[1;33m\u001b[0m\u001b[1;33m\u001b[0m\u001b[0m\n\u001b[1;32m---> 91\u001b[1;33m     \u001b[1;32mexcept\u001b[0m \u001b[0ms\u001b[0m\u001b[1;33m.\u001b[0m\u001b[0mSMTPException\u001b[0m\u001b[1;33m:\u001b[0m\u001b[1;33m\u001b[0m\u001b[1;33m\u001b[0m\u001b[0m\n\u001b[0m\u001b[0;32m     92\u001b[0m         \u001b[0mprint\u001b[0m\u001b[1;33m(\u001b[0m\u001b[1;34m'发送失败'\u001b[0m\u001b[1;33m)\u001b[0m\u001b[1;33m\u001b[0m\u001b[1;33m\u001b[0m\u001b[0m\n\u001b[0;32m     93\u001b[0m         \u001b[1;32mreturn\u001b[0m \u001b[1;32mFalse\u001b[0m\u001b[1;33m\u001b[0m\u001b[1;33m\u001b[0m\u001b[0m\n",
      "\u001b[1;31mAttributeError\u001b[0m: 'SMTP_SSL' object has no attribute 'SMTPException'"
     ]
    }
   ],
   "source": [
    "# 邮件正文是什么\n",
    "content= \"\"\"\n",
    "<html>\n",
    "    <body>\n",
    "        <h1>用户行为分析报告</h1>\n",
    "        <ol>\n",
    "            <li>项目背景</li>\n",
    "            <p>流量费用日益增长，为帮助公司发挥现有用户的最大价值，分析各环节用户流失情况，故此进行此次分析</p>\n",
    "            <img src='cid:imageid' alt='imageid'>\n",
    "            <li>分析过程</li>\n",
    "            <p>此次使用某电商平台的用户数据，共计1200万用户行为数据，数据介绍如下</p>\n",
    "            <table border='1'>\n",
    "                <tr>\n",
    "                    <th>字段名称</th>\n",
    "                    <th>字段说明</th>\n",
    "                </tr>\n",
    "                <tr>\n",
    "                    <th>user_id</th>\n",
    "                    <th>用户id</th>\n",
    "                </tr>\n",
    "                <tr>\n",
    "                    <th>item_id</th>\n",
    "                    <th>商品id</th>\n",
    "                </tr>\n",
    "                <tr>\n",
    "                    <th>behavior_type</th>\n",
    "                    <th>用户行为类型(包含点击，收藏，加购物车，支付四种行为，分别用数字1，2，3，4表示)</th>\n",
    "                </tr>\n",
    "                <tr>\n",
    "                    <th>user_geohash</th>\n",
    "                    <th>用户地理位置</th>\n",
    "                </tr>\n",
    "                <tr>\n",
    "                    <th>item_category</th>\n",
    "                    <th>品类id</th>\n",
    "                </tr>\n",
    "                <tr>\n",
    "                    <th>time</th>\n",
    "                    <th>用户行为发生时间</th>\n",
    "                </tr>\n",
    "            </table >\n",
    "            <li>分析结论</li>\n",
    "            <p>重要价值用户占比20%，我们应该采用***策略</p>\n",
    "        </ol>\n",
    "        <img src='cid:imageid' alt='imageid'>\n",
    "        <br>\n",
    "        <img src='cid:imageid1' alt='imageid1'>\n",
    "    </body>\n",
    "</html>\n",
    "\n",
    "\"\"\"\n",
    "image_path={'imageid':'评论.png',\n",
    "             'imageid':'评论.png'}\n",
    "passwd= \"folezllbzewhcbfg\"\n",
    "# 发送者的邮箱\n",
    "email_name=\"1849583099@qq.com\"\n",
    "# 我要发送给谁\n",
    "msg_to=['15690913298@163.com','1849583099@qq.com']\n",
    "# 我要抄送给谁\n",
    "acc_to=[\"dingzhang0521@163.com\"]\n",
    "# 邮件正文是什么\n",
    "content='测试邮件的内容'\n",
    "subject='自动化发送邮件'\n",
    "from_name='大吉'\n",
    "# 添加附件\n",
    "att_file=['./data/学习目标.txt','评论.png','自动化办公.ipynb']\n",
    "send_email(email_name=email_name,\n",
    "           passwd=passwd,\n",
    "           msg_to=msg_to,\n",
    "           acc_to=acc_to,\n",
    "           content=content,\n",
    "           image_html=True,\n",
    "           image_path=image_path,\n",
    "           subject=subject,\n",
    "           from_name=from_name,\n",
    "           att_file=att_file)"
   ]
  },
  {
   "cell_type": "code",
   "execution_count": 17,
   "id": "7f635e0e",
   "metadata": {},
   "outputs": [
    {
     "data": {
      "text/html": [
       "<div>\n",
       "<style scoped>\n",
       "    .dataframe tbody tr th:only-of-type {\n",
       "        vertical-align: middle;\n",
       "    }\n",
       "\n",
       "    .dataframe tbody tr th {\n",
       "        vertical-align: top;\n",
       "    }\n",
       "\n",
       "    .dataframe thead th {\n",
       "        text-align: right;\n",
       "    }\n",
       "</style>\n",
       "<table border=\"1\" class=\"dataframe\">\n",
       "  <thead>\n",
       "    <tr style=\"text-align: right;\">\n",
       "      <th></th>\n",
       "      <th>Unnamed: 0</th>\n",
       "      <th>user_id</th>\n",
       "      <th>item_id</th>\n",
       "      <th>behavior_type</th>\n",
       "      <th>user_geohash</th>\n",
       "      <th>item_category</th>\n",
       "      <th>time</th>\n",
       "    </tr>\n",
       "  </thead>\n",
       "  <tbody>\n",
       "    <tr>\n",
       "      <th>0</th>\n",
       "      <td>10000000</td>\n",
       "      <td>54007195</td>\n",
       "      <td>79633535</td>\n",
       "      <td>1</td>\n",
       "      <td>NaN</td>\n",
       "      <td>3940</td>\n",
       "      <td>2014-11-24 16</td>\n",
       "    </tr>\n",
       "    <tr>\n",
       "      <th>1</th>\n",
       "      <td>10000001</td>\n",
       "      <td>136952642</td>\n",
       "      <td>337800294</td>\n",
       "      <td>1</td>\n",
       "      <td>NaN</td>\n",
       "      <td>4830</td>\n",
       "      <td>2014-11-22 12</td>\n",
       "    </tr>\n",
       "    <tr>\n",
       "      <th>2</th>\n",
       "      <td>10000002</td>\n",
       "      <td>121255158</td>\n",
       "      <td>108926788</td>\n",
       "      <td>1</td>\n",
       "      <td>NaN</td>\n",
       "      <td>1970</td>\n",
       "      <td>2014-11-22 08</td>\n",
       "    </tr>\n",
       "    <tr>\n",
       "      <th>3</th>\n",
       "      <td>10000003</td>\n",
       "      <td>72256073</td>\n",
       "      <td>144090786</td>\n",
       "      <td>1</td>\n",
       "      <td>NaN</td>\n",
       "      <td>4008</td>\n",
       "      <td>2014-12-09 20</td>\n",
       "    </tr>\n",
       "    <tr>\n",
       "      <th>4</th>\n",
       "      <td>10000004</td>\n",
       "      <td>65645933</td>\n",
       "      <td>250029185</td>\n",
       "      <td>1</td>\n",
       "      <td>9t4qqgn</td>\n",
       "      <td>2825</td>\n",
       "      <td>2014-11-25 17</td>\n",
       "    </tr>\n",
       "  </tbody>\n",
       "</table>\n",
       "</div>"
      ],
      "text/plain": [
       "   Unnamed: 0    user_id    item_id  behavior_type user_geohash  \\\n",
       "0    10000000   54007195   79633535              1          NaN   \n",
       "1    10000001  136952642  337800294              1          NaN   \n",
       "2    10000002  121255158  108926788              1          NaN   \n",
       "3    10000003   72256073  144090786              1          NaN   \n",
       "4    10000004   65645933  250029185              1      9t4qqgn   \n",
       "\n",
       "   item_category           time  \n",
       "0           3940  2014-11-24 16  \n",
       "1           4830  2014-11-22 12  \n",
       "2           1970  2014-11-22 08  \n",
       "3           4008  2014-12-09 20  \n",
       "4           2825  2014-11-25 17  "
      ]
     },
     "execution_count": 17,
     "metadata": {},
     "output_type": "execute_result"
    }
   ],
   "source": [
    "final_data.head()"
   ]
  },
  {
   "cell_type": "markdown",
   "id": "55e72d1d",
   "metadata": {},
   "source": [
    "## 用户行为分析"
   ]
  },
  {
   "cell_type": "code",
   "execution_count": 49,
   "id": "7931038e",
   "metadata": {},
   "outputs": [
    {
     "data": {
      "text/html": [
       "<div>\n",
       "<style scoped>\n",
       "    .dataframe tbody tr th:only-of-type {\n",
       "        vertical-align: middle;\n",
       "    }\n",
       "\n",
       "    .dataframe tbody tr th {\n",
       "        vertical-align: top;\n",
       "    }\n",
       "\n",
       "    .dataframe thead th {\n",
       "        text-align: right;\n",
       "    }\n",
       "</style>\n",
       "<table border=\"1\" class=\"dataframe\">\n",
       "  <thead>\n",
       "    <tr style=\"text-align: right;\">\n",
       "      <th></th>\n",
       "      <th>user_id</th>\n",
       "      <th>item_id</th>\n",
       "      <th>behavior_type</th>\n",
       "      <th>time</th>\n",
       "    </tr>\n",
       "  </thead>\n",
       "  <tbody>\n",
       "    <tr>\n",
       "      <th>0</th>\n",
       "      <td>54007195</td>\n",
       "      <td>79633535</td>\n",
       "      <td>1</td>\n",
       "      <td>2014-11-24 16</td>\n",
       "    </tr>\n",
       "    <tr>\n",
       "      <th>1</th>\n",
       "      <td>136952642</td>\n",
       "      <td>337800294</td>\n",
       "      <td>1</td>\n",
       "      <td>2014-11-22 12</td>\n",
       "    </tr>\n",
       "    <tr>\n",
       "      <th>2</th>\n",
       "      <td>121255158</td>\n",
       "      <td>108926788</td>\n",
       "      <td>1</td>\n",
       "      <td>2014-11-22 08</td>\n",
       "    </tr>\n",
       "    <tr>\n",
       "      <th>3</th>\n",
       "      <td>72256073</td>\n",
       "      <td>144090786</td>\n",
       "      <td>1</td>\n",
       "      <td>2014-12-09 20</td>\n",
       "    </tr>\n",
       "    <tr>\n",
       "      <th>4</th>\n",
       "      <td>65645933</td>\n",
       "      <td>250029185</td>\n",
       "      <td>1</td>\n",
       "      <td>2014-11-25 17</td>\n",
       "    </tr>\n",
       "  </tbody>\n",
       "</table>\n",
       "</div>"
      ],
      "text/plain": [
       "     user_id    item_id  behavior_type           time\n",
       "0   54007195   79633535              1  2014-11-24 16\n",
       "1  136952642  337800294              1  2014-11-22 12\n",
       "2  121255158  108926788              1  2014-11-22 08\n",
       "3   72256073  144090786              1  2014-12-09 20\n",
       "4   65645933  250029185              1  2014-11-25 17"
      ]
     },
     "execution_count": 49,
     "metadata": {},
     "output_type": "execute_result"
    }
   ],
   "source": [
    "import pandas as pd\n",
    "import os\n",
    "data=final_data[['user_id','item_id','behavior_type','time']]\n",
    "data.head()"
   ]
  },
  {
   "cell_type": "code",
   "execution_count": 50,
   "id": "689a45e8",
   "metadata": {},
   "outputs": [
    {
     "name": "stderr",
     "output_type": "stream",
     "text": [
      "C:\\Users\\dz\\AppData\\Local\\Temp/ipykernel_19548/1505495527.py:1: SettingWithCopyWarning: \n",
      "A value is trying to be set on a copy of a slice from a DataFrame.\n",
      "Try using .loc[row_indexer,col_indexer] = value instead\n",
      "\n",
      "See the caveats in the documentation: https://pandas.pydata.org/pandas-docs/stable/user_guide/indexing.html#returning-a-view-versus-a-copy\n",
      "  data['date']=data['time'].map(lambda x:x.split(' ')[0])\n"
     ]
    },
    {
     "data": {
      "text/html": [
       "<div>\n",
       "<style scoped>\n",
       "    .dataframe tbody tr th:only-of-type {\n",
       "        vertical-align: middle;\n",
       "    }\n",
       "\n",
       "    .dataframe tbody tr th {\n",
       "        vertical-align: top;\n",
       "    }\n",
       "\n",
       "    .dataframe thead th {\n",
       "        text-align: right;\n",
       "    }\n",
       "</style>\n",
       "<table border=\"1\" class=\"dataframe\">\n",
       "  <thead>\n",
       "    <tr style=\"text-align: right;\">\n",
       "      <th></th>\n",
       "      <th>user_id</th>\n",
       "      <th>item_id</th>\n",
       "      <th>behavior_type</th>\n",
       "      <th>time</th>\n",
       "      <th>date</th>\n",
       "      <th>hour</th>\n",
       "    </tr>\n",
       "  </thead>\n",
       "  <tbody>\n",
       "    <tr>\n",
       "      <th>0</th>\n",
       "      <td>54007195</td>\n",
       "      <td>79633535</td>\n",
       "      <td>1</td>\n",
       "      <td>2014-11-24 16</td>\n",
       "      <td>2014-11-24</td>\n",
       "      <td>16</td>\n",
       "    </tr>\n",
       "    <tr>\n",
       "      <th>1</th>\n",
       "      <td>136952642</td>\n",
       "      <td>337800294</td>\n",
       "      <td>1</td>\n",
       "      <td>2014-11-22 12</td>\n",
       "      <td>2014-11-22</td>\n",
       "      <td>12</td>\n",
       "    </tr>\n",
       "    <tr>\n",
       "      <th>2</th>\n",
       "      <td>121255158</td>\n",
       "      <td>108926788</td>\n",
       "      <td>1</td>\n",
       "      <td>2014-11-22 08</td>\n",
       "      <td>2014-11-22</td>\n",
       "      <td>08</td>\n",
       "    </tr>\n",
       "    <tr>\n",
       "      <th>3</th>\n",
       "      <td>72256073</td>\n",
       "      <td>144090786</td>\n",
       "      <td>1</td>\n",
       "      <td>2014-12-09 20</td>\n",
       "      <td>2014-12-09</td>\n",
       "      <td>20</td>\n",
       "    </tr>\n",
       "    <tr>\n",
       "      <th>4</th>\n",
       "      <td>65645933</td>\n",
       "      <td>250029185</td>\n",
       "      <td>1</td>\n",
       "      <td>2014-11-25 17</td>\n",
       "      <td>2014-11-25</td>\n",
       "      <td>17</td>\n",
       "    </tr>\n",
       "  </tbody>\n",
       "</table>\n",
       "</div>"
      ],
      "text/plain": [
       "     user_id    item_id  behavior_type           time        date hour\n",
       "0   54007195   79633535              1  2014-11-24 16  2014-11-24   16\n",
       "1  136952642  337800294              1  2014-11-22 12  2014-11-22   12\n",
       "2  121255158  108926788              1  2014-11-22 08  2014-11-22   08\n",
       "3   72256073  144090786              1  2014-12-09 20  2014-12-09   20\n",
       "4   65645933  250029185              1  2014-11-25 17  2014-11-25   17"
      ]
     },
     "execution_count": 50,
     "metadata": {},
     "output_type": "execute_result"
    }
   ],
   "source": [
    "data['date']=data['time'].map(lambda x:x.split(' ')[0])\n",
    "data['hour']=data['time'].map(lambda x:x.split(' ')[1])\n",
    "data.head()"
   ]
  },
  {
   "cell_type": "markdown",
   "id": "548c9d66",
   "metadata": {},
   "source": [
    "- apply是一种让函数作用于列或者行的操作\n",
    "- applymap()是一种让函数作用于Dataframe每一个元素的操作\n",
    "- map是一种让函数作用于Series每一个元素的操作"
   ]
  },
  {
   "cell_type": "code",
   "execution_count": 51,
   "id": "ffc90bd5",
   "metadata": {},
   "outputs": [
    {
     "ename": "AttributeError",
     "evalue": "'NoneType' object has no attribute 'head'",
     "output_type": "error",
     "traceback": [
      "\u001b[1;31m---------------------------------------------------------------------------\u001b[0m",
      "\u001b[1;31mAttributeError\u001b[0m                            Traceback (most recent call last)",
      "\u001b[1;32m~\\AppData\\Local\\Temp/ipykernel_19548/234464295.py\u001b[0m in \u001b[0;36m<module>\u001b[1;34m\u001b[0m\n\u001b[0;32m      1\u001b[0m \u001b[0mdata\u001b[0m \u001b[1;33m=\u001b[0m \u001b[0mdata\u001b[0m\u001b[1;33m.\u001b[0m\u001b[0mdrop\u001b[0m\u001b[1;33m(\u001b[0m\u001b[1;33m[\u001b[0m\u001b[1;34m'time'\u001b[0m\u001b[1;33m]\u001b[0m\u001b[1;33m,\u001b[0m\u001b[0maxis\u001b[0m\u001b[1;33m=\u001b[0m\u001b[1;36m1\u001b[0m\u001b[1;33m,\u001b[0m\u001b[0minplace\u001b[0m\u001b[1;33m=\u001b[0m\u001b[1;32mTrue\u001b[0m\u001b[1;33m)\u001b[0m\u001b[1;33m\u001b[0m\u001b[1;33m\u001b[0m\u001b[0m\n\u001b[1;32m----> 2\u001b[1;33m \u001b[0mdata\u001b[0m\u001b[1;33m.\u001b[0m\u001b[0mhead\u001b[0m\u001b[1;33m(\u001b[0m\u001b[1;33m)\u001b[0m\u001b[1;33m\u001b[0m\u001b[1;33m\u001b[0m\u001b[0m\n\u001b[0m",
      "\u001b[1;31mAttributeError\u001b[0m: 'NoneType' object has no attribute 'head'"
     ]
    }
   ],
   "source": [
    "data = data.drop(['time'],axis=1,inplace=True)\n",
    "data.head()"
   ]
  },
  {
   "cell_type": "code",
   "execution_count": 46,
   "id": "718f9b60",
   "metadata": {},
   "outputs": [
    {
     "ename": "AttributeError",
     "evalue": "'NoneType' object has no attribute 'shape'",
     "output_type": "error",
     "traceback": [
      "\u001b[1;31m---------------------------------------------------------------------------\u001b[0m",
      "\u001b[1;31mAttributeError\u001b[0m                            Traceback (most recent call last)",
      "\u001b[1;32m~\\AppData\\Local\\Temp/ipykernel_19548/3993293784.py\u001b[0m in \u001b[0;36m<module>\u001b[1;34m\u001b[0m\n\u001b[1;32m----> 1\u001b[1;33m \u001b[0mdata\u001b[0m\u001b[1;33m.\u001b[0m\u001b[0mshape\u001b[0m\u001b[1;33m\u001b[0m\u001b[1;33m\u001b[0m\u001b[0m\n\u001b[0m",
      "\u001b[1;31mAttributeError\u001b[0m: 'NoneType' object has no attribute 'shape'"
     ]
    }
   ],
   "source": [
    "data.shape"
   ]
  },
  {
   "cell_type": "code",
   "execution_count": 37,
   "id": "45e89ef7",
   "metadata": {},
   "outputs": [
    {
     "ename": "AttributeError",
     "evalue": "'NoneType' object has no attribute 'dtypes'",
     "output_type": "error",
     "traceback": [
      "\u001b[1;31m---------------------------------------------------------------------------\u001b[0m",
      "\u001b[1;31mAttributeError\u001b[0m                            Traceback (most recent call last)",
      "\u001b[1;32m~\\AppData\\Local\\Temp/ipykernel_19548/3048952558.py\u001b[0m in \u001b[0;36m<module>\u001b[1;34m\u001b[0m\n\u001b[1;32m----> 1\u001b[1;33m \u001b[0mdata\u001b[0m\u001b[1;33m.\u001b[0m\u001b[0mdtypes\u001b[0m\u001b[1;33m\u001b[0m\u001b[1;33m\u001b[0m\u001b[0m\n\u001b[0m",
      "\u001b[1;31mAttributeError\u001b[0m: 'NoneType' object has no attribute 'dtypes'"
     ]
    }
   ],
   "source": [
    "data.dtypes"
   ]
  },
  {
   "cell_type": "code",
   "execution_count": null,
   "id": "ddd3e57a",
   "metadata": {},
   "outputs": [],
   "source": [
    "## 转换时间数据类型\n",
    "data['date']=pd.to_datetime(data['date'])\n",
    "data['hour']=data['hour'].astype('int32')\n",
    "data.dtypes"
   ]
  },
  {
   "cell_type": "code",
   "execution_count": 52,
   "id": "4ef0dfe7",
   "metadata": {},
   "outputs": [
    {
     "ename": "TypeError",
     "evalue": "'NoneType' object is not subscriptable",
     "output_type": "error",
     "traceback": [
      "\u001b[1;31m---------------------------------------------------------------------------\u001b[0m",
      "\u001b[1;31mTypeError\u001b[0m                                 Traceback (most recent call last)",
      "\u001b[1;32m~\\AppData\\Local\\Temp/ipykernel_19548/2589846721.py\u001b[0m in \u001b[0;36m<module>\u001b[1;34m\u001b[0m\n\u001b[0;32m      1\u001b[0m \u001b[1;31m## 一共有多少用户产生了这么多数据\u001b[0m\u001b[1;33m\u001b[0m\u001b[1;33m\u001b[0m\u001b[0m\n\u001b[1;32m----> 2\u001b[1;33m \u001b[0mdata\u001b[0m\u001b[1;33m[\u001b[0m\u001b[1;34m'user_id'\u001b[0m\u001b[1;33m]\u001b[0m\u001b[1;33m.\u001b[0m\u001b[0mnunique\u001b[0m\u001b[1;33m(\u001b[0m\u001b[1;33m)\u001b[0m\u001b[1;33m\u001b[0m\u001b[1;33m\u001b[0m\u001b[0m\n\u001b[0m",
      "\u001b[1;31mTypeError\u001b[0m: 'NoneType' object is not subscriptable"
     ]
    }
   ],
   "source": [
    "## 一共有多少用户产生了这么多数据\n",
    "data['user_id'].nunique()"
   ]
  },
  {
   "cell_type": "code",
   "execution_count": 53,
   "id": "6d801f95",
   "metadata": {},
   "outputs": [
    {
     "ename": "AttributeError",
     "evalue": "'NoneType' object has no attribute 'isnull'",
     "output_type": "error",
     "traceback": [
      "\u001b[1;31m---------------------------------------------------------------------------\u001b[0m",
      "\u001b[1;31mAttributeError\u001b[0m                            Traceback (most recent call last)",
      "\u001b[1;32m~\\AppData\\Local\\Temp/ipykernel_19548/2554800701.py\u001b[0m in \u001b[0;36m<module>\u001b[1;34m\u001b[0m\n\u001b[0;32m      1\u001b[0m \u001b[1;31m# 查看是否有缺失值\u001b[0m\u001b[1;33m\u001b[0m\u001b[1;33m\u001b[0m\u001b[0m\n\u001b[1;32m----> 2\u001b[1;33m \u001b[0mdata\u001b[0m\u001b[1;33m.\u001b[0m\u001b[0misnull\u001b[0m\u001b[1;33m(\u001b[0m\u001b[1;33m)\u001b[0m\u001b[1;33m.\u001b[0m\u001b[0msum\u001b[0m\u001b[1;33m(\u001b[0m\u001b[1;33m)\u001b[0m\u001b[1;33m\u001b[0m\u001b[1;33m\u001b[0m\u001b[0m\n\u001b[0m",
      "\u001b[1;31mAttributeError\u001b[0m: 'NoneType' object has no attribute 'isnull'"
     ]
    }
   ],
   "source": [
    "# 查看是否有缺失值\n",
    "data.isnull().sum()"
   ]
  },
  {
   "cell_type": "markdown",
   "id": "7b599a12",
   "metadata": {},
   "source": [
    "## 流量指标分析\n",
    "- 流量指标：指用户在该网站操作的每一个步骤记录的量化指标\n",
    "- 包括浏览量pv\n",
    "- 独立访客数uv\n",
    "\n",
    "- 针对每一个访客又可以用以下指标衡量访客质量，包括：\n",
    "- 1. 平均在线时间，平均每个uv访问页面停留的时间长度\n",
    "- 2. 平均访问深度，平均每一个uv的pv数量\n",
    "- 3. 跳失率，浏览某个也灭你后就离开的访问次数/该页面的全部访问次数"
   ]
  },
  {
   "cell_type": "code",
   "execution_count": null,
   "id": "7a8c98ea",
   "metadata": {},
   "outputs": [],
   "source": [
    "## 总pv值\n",
    "data.shape[0]"
   ]
  },
  {
   "cell_type": "code",
   "execution_count": null,
   "id": "031ed255",
   "metadata": {},
   "outputs": [],
   "source": [
    "## 计算pv和uv\n",
    "import matplotlib.pyplot as plt\n",
    "# 日均pv\n",
    "pv=data.groupby(['date'])['user_id'].count().reset_index().rename(columns={'user_id':'pv'})\n",
    "pv.head()"
   ]
  },
  {
   "cell_type": "code",
   "execution_count": null,
   "id": "0b429f96",
   "metadata": {},
   "outputs": [],
   "source": [
    "# 日均uv\n",
    "uv=data.groupby(['date'])['user_id'].apply(lambda x:x.drop_duplicates().count()).reset_index().rename({columns={'user_id':'uv'}})\n",
    "uv.head()"
   ]
  },
  {
   "cell_type": "code",
   "execution_count": null,
   "id": "80a7ab9e",
   "metadata": {},
   "outputs": [],
   "source": [
    "font={\n",
    "    'family':'SimHei','size':20\n",
    "}\n",
    "plt.rc(\"font\",**font)\n",
    "\n",
    "plt.figure(figsize=(20,5))\n",
    "plt.plot(pv['date']，pv['pv'])\n",
    "plt.xticks(rotation=30)\n",
    "plt.title('日均pv')\n",
    "\n",
    "# 保存图片\n",
    "plt.savefig('日pv.png')\n",
    "plt.show()"
   ]
  },
  {
   "cell_type": "code",
   "execution_count": null,
   "id": "4a3e278f",
   "metadata": {},
   "outputs": [],
   "source": [
    "plt.figure(figsize=(20,5))\n",
    "plt.plot(uv['date']，uv['uv'])\n",
    "plt.xticks(rotation=30)\n",
    "plt.title('日均uv')\n",
    "\n",
    "# 保存图片\n",
    "plt.savefig('日uv.png')\n",
    "plt.show()"
   ]
  },
  {
   "cell_type": "markdown",
   "id": "e5520aa6",
   "metadata": {},
   "source": [
    "- pv和uv都在双12达到了高峰\n",
    "- pv和uv在11.17到12.7流量都是比较平稳的，只有在双12前后两天波动较大"
   ]
  },
  {
   "cell_type": "markdown",
   "id": "ee78aa6e",
   "metadata": {},
   "source": [
    "## 每一个时刻的pv和uv值"
   ]
  },
  {
   "cell_type": "code",
   "execution_count": null,
   "id": "0c7676f7",
   "metadata": {},
   "outputs": [],
   "source": [
    "pv_hour=data.groupby(['hour'])['user_id'].count().reset_index().rename({columns={'user_id':\"pv\"}})\n",
    "uv_hour=data.groupby(['hour'])['user_id'].apply(lambda x:x.drop_duplicates().count()).reset_index().rename({columns={'user_id':'uv'}})"
   ]
  },
  {
   "cell_type": "code",
   "execution_count": 3,
   "id": "bd765c17",
   "metadata": {},
   "outputs": [
    {
     "ename": "NameError",
     "evalue": "name 'pv_hour' is not defined",
     "output_type": "error",
     "traceback": [
      "\u001b[1;31m---------------------------------------------------------------------------\u001b[0m",
      "\u001b[1;31mNameError\u001b[0m                                 Traceback (most recent call last)",
      "\u001b[1;32m~\\AppData\\Local\\Temp/ipykernel_19496/2800299114.py\u001b[0m in \u001b[0;36m<module>\u001b[1;34m\u001b[0m\n\u001b[1;32m----> 1\u001b[1;33m \u001b[0mpv_hour\u001b[0m\u001b[1;33m.\u001b[0m\u001b[0mhead\u001b[0m\u001b[1;33m\u001b[0m\u001b[1;33m\u001b[0m\u001b[0m\n\u001b[0m",
      "\u001b[1;31mNameError\u001b[0m: name 'pv_hour' is not defined"
     ]
    }
   ],
   "source": [
    "pv_hour.head()"
   ]
  },
  {
   "cell_type": "code",
   "execution_count": 4,
   "id": "2c2e7845",
   "metadata": {},
   "outputs": [
    {
     "ename": "NameError",
     "evalue": "name 'uv_hour' is not defined",
     "output_type": "error",
     "traceback": [
      "\u001b[1;31m---------------------------------------------------------------------------\u001b[0m",
      "\u001b[1;31mNameError\u001b[0m                                 Traceback (most recent call last)",
      "\u001b[1;32m~\\AppData\\Local\\Temp/ipykernel_19496/1468437864.py\u001b[0m in \u001b[0;36m<module>\u001b[1;34m\u001b[0m\n\u001b[1;32m----> 1\u001b[1;33m \u001b[0muv_hour\u001b[0m\u001b[1;33m.\u001b[0m\u001b[0mhead\u001b[0m\u001b[1;33m(\u001b[0m\u001b[1;33m)\u001b[0m\u001b[1;33m\u001b[0m\u001b[1;33m\u001b[0m\u001b[0m\n\u001b[0m",
      "\u001b[1;31mNameError\u001b[0m: name 'uv_hour' is not defined"
     ]
    }
   ],
   "source": [
    "uv_hour.head()"
   ]
  },
  {
   "cell_type": "code",
   "execution_count": null,
   "id": "04f8ff49",
   "metadata": {},
   "outputs": [],
   "source": [
    "plt.figure(figsize=(20,5))\n",
    "plt.plot(pv_hour['hour'],pv_hour['pv'])\n",
    "plt.xticks(rotation=30)\n",
    "plt.title('每小时pv')\n",
    "\n",
    "# 保存图片\n",
    "plt.savefig('每小时pv.png')\n",
    "plt.show()"
   ]
  },
  {
   "cell_type": "code",
   "execution_count": null,
   "id": "5d45ab58",
   "metadata": {},
   "outputs": [],
   "source": [
    "plt.figure(figsize=(20,5))\n",
    "plt.plot(uv_hour['hour'],uv_hour['pv'])\n",
    "plt.xticks(rotation=30)\n",
    "plt.title('每小时uv')\n",
    "\n",
    "# 保存图片\n",
    "plt.savefig('每小时uv.png')\n",
    "plt.show()"
   ]
  },
  {
   "cell_type": "code",
   "execution_count": null,
   "id": "f0b8f226",
   "metadata": {},
   "outputs": [],
   "source": [
    "## 求每个uv平均访问深度\n",
    "round(data['user_id'].shape[0]/data['user_id'].nunique(),2)"
   ]
  },
  {
   "cell_type": "code",
   "execution_count": null,
   "id": "7624aa9c",
   "metadata": {},
   "outputs": [],
   "source": [
    "## 求每个uv日均访问深度\n",
    "round(data['user_id'].shape[0]/data['user_id'].nuique()/data['date'].nunique(),2)"
   ]
  },
  {
   "cell_type": "markdown",
   "id": "8a3bb314",
   "metadata": {},
   "source": [
    "- 每个uv的平均pv数是1225.69\n",
    "- 每个uv的每日平均pv数值是39.54"
   ]
  },
  {
   "cell_type": "code",
   "execution_count": null,
   "id": "676a08af",
   "metadata": {},
   "outputs": [],
   "source": [
    "## 知识点预告：可视化 pyecharts"
   ]
  },
  {
   "cell_type": "code",
   "execution_count": null,
   "id": "a371ca10",
   "metadata": {},
   "outputs": [],
   "source": [
    "## 漏斗模型\n",
    "# 计算每一个环节用户的访问量\n",
    "view=data.groupby(['behavior_type'])['user_id'].count().reset_index().rename(columns={'user_id':'pv'})\n",
    "view"
   ]
  },
  {
   "cell_type": "code",
   "execution_count": null,
   "id": "d4f144ef",
   "metadata": {},
   "outputs": [],
   "source": [
    "from pyecharts.charts import Funnel\n",
    "attr= ['点击','收藏','加购物车','支付']\n",
    "image_data=[(attr[i],int(view['pv'][i])) for i in range(len(attr))]\n",
    "image_data"
   ]
  },
  {
   "cell_type": "code",
   "execution_count": null,
   "id": "9404db56",
   "metadata": {},
   "outputs": [],
   "source": [
    "## 绘图\n",
    "funnel=(Funnel().add(series_name='用户行为漏斗'\n",
    "       ,data_pair=image_data))\n",
    "funnel.render_notebook()"
   ]
  }
 ],
 "metadata": {
  "kernelspec": {
   "display_name": "Python 3 (ipykernel)",
   "language": "python",
   "name": "python3"
  },
  "language_info": {
   "codemirror_mode": {
    "name": "ipython",
    "version": 3
   },
   "file_extension": ".py",
   "mimetype": "text/x-python",
   "name": "python",
   "nbconvert_exporter": "python",
   "pygments_lexer": "ipython3",
   "version": "3.9.7"
  }
 },
 "nbformat": 4,
 "nbformat_minor": 5
}
